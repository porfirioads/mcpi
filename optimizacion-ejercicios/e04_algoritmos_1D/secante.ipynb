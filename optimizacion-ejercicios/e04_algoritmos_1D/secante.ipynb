{
 "cells": [
  {
   "cell_type": "markdown",
   "id": "6a2b551d-4af4-4b1f-95a9-0ef3ccde3521",
   "metadata": {},
   "source": [
    "**<span style=\"font-size:xx-large\">MÉTODO SECANTE</span>**"
   ]
  },
  {
   "cell_type": "markdown",
   "id": "2aee1c2d-9043-4173-b7f7-62a6ffed76f5",
   "metadata": {},
   "source": [
    "Sea la función $f(x)$, y $x_n$ y $x_{n-1}$ los valores iniciales.\n",
    "\n",
    "Calcular $x_{n+1} = x_n - \\frac{f'(x_n)(x_n - x_{x-1})}{f'(x_n) - f'(x_{x-1})}$\n",
    "\n",
    "Si $f'(x_{n+1}) < tolerancia$, el procedimiento termina exitosamente.\n",
    "\n",
    "De no cumplirse el critero de paro tomar $x_{n-1} = x_n$ y $x_n = x_{n+1}$"
   ]
  },
  {
   "cell_type": "code",
   "execution_count": 3,
   "id": "8e7f6f5a-dd79-47cf-9eac-324059795957",
   "metadata": {
    "tags": []
   },
   "outputs": [],
   "source": [
    "from matplotlib import pyplot as plt\n",
    "from time import time\n",
    "import numpy as np"
   ]
  },
  {
   "cell_type": "code",
   "execution_count": 14,
   "id": "9b7fb9ba-2801-405d-a221-0f0f1aa67958",
   "metadata": {},
   "outputs": [
    {
     "name": "stdout",
     "output_type": "stream",
     "text": [
      "Tiempo transcurrido: 0.4131793975830078 ms.\n",
      "x0 = 55.536817559684295\n",
      "x1 = 55.10348749688465\n",
      "x2 = 55.08276025169527\n",
      "fx2 = 1225.165637066571\n",
      "f'x2 = -0.00017052252587745897\n",
      "Iteraciones: 5\n"
     ]
    }
   ],
   "source": [
    "# Función de costo del problema.\n",
    "f_u = lambda t: ((204_165.5) / (330 - 2 * t)) + (10_400 / (t - 20))\n",
    "\n",
    "# Definición de la derivada adelantada en un punto.\n",
    "dx = lambda x, delta_x: (f_u(x + delta_x) - f_u(x)) / delta_x\n",
    "\n",
    "# Restricciones de la variable t\n",
    "a = 40\n",
    "b = 90\n",
    "x0 = a\n",
    "x1 = b\n",
    "\n",
    "# Tolerancia\n",
    "epsilon = 0.001\n",
    "delta_x = epsilon\n",
    "\n",
    "# Registra tiempo de inicio del algoritmo.\n",
    "start_time = time()\n",
    "\n",
    "# Realiza las iteraciones del algoritmo\n",
    "for i in range(1, 5000):\n",
    "    fpx1 = dx(x1, delta_x)\n",
    "    fpx0 = dx(x0, delta_x)\n",
    "    x2 = x1 - (fpx1 * (x1 - x0)) / (fpx1 - fpx0)\n",
    "    fpx2 = dx(x2, delta_x)\n",
    "    \n",
    "    if abs(fpx2) <= epsilon:\n",
    "        break\n",
    "        \n",
    "    x0 = x1\n",
    "    x1 = x2\n",
    "        \n",
    "# Registra tiempo de finalización del algoritmo.\n",
    "end_time = time()\n",
    "\n",
    "# Calcula tiempo transcurrido en milisegundos.\n",
    "elapsed_time = (end_time - start_time) * 1000\n",
    "\n",
    "print(f'Tiempo transcurrido: {elapsed_time} ms.')\n",
    "print(f'x0 = {x0}')\n",
    "print(f'x1 = {x1}')\n",
    "print(f'x2 = {x2}')\n",
    "print(f'fx2 = {f_u(x2)}')\n",
    "print(f\"f'x2 = {fpx2}\")\n",
    "print(f'Iteraciones: {i}')"
   ]
  }
 ],
 "metadata": {
  "kernelspec": {
   "display_name": "Python 3 (ipykernel)",
   "language": "python",
   "name": "python3"
  },
  "language_info": {
   "codemirror_mode": {
    "name": "ipython",
    "version": 3
   },
   "file_extension": ".py",
   "mimetype": "text/x-python",
   "name": "python",
   "nbconvert_exporter": "python",
   "pygments_lexer": "ipython3",
   "version": "3.9.6"
  }
 },
 "nbformat": 4,
 "nbformat_minor": 5
}
