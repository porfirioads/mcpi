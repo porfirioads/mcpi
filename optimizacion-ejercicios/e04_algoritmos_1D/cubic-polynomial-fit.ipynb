{
 "cells": [
  {
   "cell_type": "markdown",
   "id": "58378aff-0108-4a45-8fa8-48d276e1cb36",
   "metadata": {},
   "source": [
    "**<span style=\"font-size:xx-large\">MÉTODO AJUSTE POLINOMIAL CÚBICO</span>**"
   ]
  },
  {
   "cell_type": "code",
   "execution_count": null,
   "id": "b134c710-5297-41ae-bf32-8c4a73d8b52f",
   "metadata": {},
   "outputs": [],
   "source": []
  },
  {
   "cell_type": "code",
   "execution_count": null,
   "id": "b4e9d68e-8b4e-49a6-90dc-58a2e62d270e",
   "metadata": {},
   "outputs": [],
   "source": []
  }
 ],
 "metadata": {
  "kernelspec": {
   "display_name": "Python 3 (ipykernel)",
   "language": "python",
   "name": "python3"
  },
  "language_info": {
   "codemirror_mode": {
    "name": "ipython",
    "version": 3
   },
   "file_extension": ".py",
   "mimetype": "text/x-python",
   "name": "python",
   "nbconvert_exporter": "python",
   "pygments_lexer": "ipython3",
   "version": "3.9.6"
  }
 },
 "nbformat": 4,
 "nbformat_minor": 5
}
