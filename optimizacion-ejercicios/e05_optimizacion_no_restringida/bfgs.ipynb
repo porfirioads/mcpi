{
 "cells": [
  {
   "cell_type": "markdown",
   "id": "164cf9c8-8642-4f3c-9ee8-71cb2068dba9",
   "metadata": {},
   "source": [
    "**BFGS**\n",
    "---"
   ]
  },
  {
   "cell_type": "code",
   "execution_count": 2,
   "id": "61cf7096-a1d9-48b8-bb58-ec390dae2aa0",
   "metadata": {},
   "outputs": [],
   "source": [
    "funcx = lambda x: (100 + 90) * (np.sqrt(x[0] ** 2 + (x[1] + 1) ** 2) - 1) ** 2 - (20 * x[0] + 40 * x[1])"
   ]
  },
  {
   "cell_type": "code",
   "execution_count": 3,
   "id": "b8547dc6-f474-48f4-bfa0-1e27e9eb4628",
   "metadata": {},
   "outputs": [],
   "source": [
    "def gradient(x,delta):\n",
    "    grad=np.zeros(2)\n",
    "    grad[0]=(funcx([x[0]+delta,x[1]])- funcx([x[0]-delta,x[1]]))/(2*delta)\n",
    "    grad[1]=(funcx([x[0],x[1]+delta])- funcx([x[0],x[1]-delta]))/(2*delta)\n",
    "    return grad"
   ]
  },
  {
   "cell_type": "code",
   "execution_count": 4,
   "id": "07ea44bb-1e34-4c38-abdf-be68ef73319d",
   "metadata": {},
   "outputs": [],
   "source": [
    "def golden(x, search, xi, eps):\n",
    "    a = xi[0];\n",
    "    b = xi[1];\n",
    "    tau = 0.381967;\n",
    "    alpha1 = a*(1-tau) + b*tau;\n",
    "    alpha2 = a*tau + b*(1-tau);\n",
    "    falpha1 = funcx(x+alpha1*search);\n",
    "    falpha2 = funcx(x+alpha2*search);\n",
    "    for i in range(100):\n",
    "        if falpha1 > falpha2:\n",
    "            a = alpha1;\n",
    "            alpha1 = alpha2;\n",
    "            falpha1 = falpha2;\n",
    "            alpha2 = tau*a + (1-tau)*b;\n",
    "            falpha2 = funcx(x+alpha2*search);\n",
    "        else:\n",
    "            b = alpha2;\n",
    "            alpha2 = alpha1;\n",
    "            falpha2 = falpha1;\n",
    "            alpha1 = tau*b + (1-tau)*a;\n",
    "            falpha1 = funcx(x+alpha1*search);\n",
    "\n",
    "        if np.abs(funcx(x+alpha1*search)- funcx(x+alpha2*search)) < eps :\n",
    "            break;\n",
    "    return alpha1,falpha1"
   ]
  },
  {
   "cell_type": "code",
   "execution_count": 6,
   "id": "9252db9a-caa6-4499-9c69-56a9ac5a5692",
   "metadata": {},
   "outputs": [],
   "source": [
    "def hessian(x,delta):\n",
    "    H=np.zeros([2,2])\n",
    "    H[0,0]= ( funcx([x[0]+delta,x[1]])  - 2*funcx(x) + funcx([x[0]-delta,x[1]]) )/ delta**2;\n",
    "    H[1,1]= ( funcx([x[0],x[1]+delta])  - 2*funcx(x) + funcx([x[0],x[1]-delta]) )/ delta**2; \n",
    "    H[0,1]= ( funcx([x[0]+delta,x[1]+delta]) - funcx([x[0]+delta,x[1]-delta]) - funcx([x[0]-delta,x[1]+delta]) + funcx([x[0]-delta,x[1]-delta]) )/ (4*(delta**2));\n",
    "    H[1,0]=H[0,1]\n",
    "    return H"
   ]
  },
  {
   "cell_type": "code",
   "execution_count": null,
   "id": "503bc154-ffe9-432a-bc31-f06d49a22263",
   "metadata": {},
   "outputs": [],
   "source": [
    "def bfgs():\n",
    "    "
   ]
  }
 ],
 "metadata": {
  "kernelspec": {
   "display_name": "Python 3 (ipykernel)",
   "language": "python",
   "name": "python3"
  },
  "language_info": {
   "codemirror_mode": {
    "name": "ipython",
    "version": 3
   },
   "file_extension": ".py",
   "mimetype": "text/x-python",
   "name": "python",
   "nbconvert_exporter": "python",
   "pygments_lexer": "ipython3",
   "version": "3.7.10"
  }
 },
 "nbformat": 4,
 "nbformat_minor": 5
}
