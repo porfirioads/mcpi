{
 "cells": [
  {
   "cell_type": "markdown",
   "metadata": {},
   "source": [
    "# Regresión Lineal"
   ]
  },
  {
   "cell_type": "markdown",
   "metadata": {},
   "source": [
    "## Por medio de librerías de Python"
   ]
  },
  {
   "cell_type": "code",
   "execution_count": 18,
   "metadata": {},
   "outputs": [],
   "source": [
    "# Importación de librerías\n",
    "import numpy as np\n",
    "from sklearn.linear_model import LinearRegression\n",
    "import matplotlib.pyplot as plt"
   ]
  },
  {
   "cell_type": "code",
   "execution_count": 19,
   "metadata": {},
   "outputs": [],
   "source": [
    "# Declaración de datos\n",
    "x = np.array([5, 15, 25, 35, 45, 55]).reshape((-1, 1))\n",
    "y = np.array([5, 20, 14, 32, 22, 38])"
   ]
  },
  {
   "cell_type": "code",
   "execution_count": 20,
   "metadata": {},
   "outputs": [],
   "source": [
    "# Inicialización de modelo de regresión lineal\n",
    "model = LinearRegression()\n",
    "model.fit(x, y)\n",
    "y_pred = model.predict(x)  # make predictions"
   ]
  },
  {
   "cell_type": "code",
   "execution_count": 21,
   "metadata": {},
   "outputs": [
    {
     "name": "stdout",
     "output_type": "stream",
     "text": [
      "coefficient of determination: 0.715875613747954\n",
      "intercept: 5.633333333333329\n",
      "slope: [0.54]\n"
     ]
    }
   ],
   "source": [
    "# Obtención de parámetros de la regresión\n",
    "r_sq = model.score(x, y)\n",
    "print('coefficient of determination:', r_sq)\n",
    "print('intercept:', model.intercept_)\n",
    "print('slope:', model.coef_)"
   ]
  },
  {
   "cell_type": "code",
   "execution_count": 40,
   "metadata": {},
   "outputs": [
    {
     "data": {
      "image/png": "[encoded data removed]",
      "text/plain": [
       "<Figure size 432x288 with 1 Axes>"
      ]
     },
     "metadata": {
      "needs_background": "light"
     },
     "output_type": "display_data"
    }
   ],
   "source": [
    "# Grafica los datos de la regresión\n",
    "plt.scatter(x, y)\n",
    "plt.plot(x, y_pred, color='red')\n",
    "plt.show()"
   ]
  },
  {
   "cell_type": "markdown",
   "metadata": {},
   "source": [
    "## Implementando algoritmo manualmente"
   ]
  },
  {
   "cell_type": "code",
   "execution_count": 38,
   "metadata": {},
   "outputs": [],
   "source": [
    "def calcular_regresion(x, y, n):\n",
    "    sumx = sumxy = st = sumy = sumx2 = sr = 0\n",
    "    for i in range(n):\n",
    "        sumx += x[i]\n",
    "        sumy += y[i]\n",
    "        sumxy += x[i] * y[i]\n",
    "        sumx2 += x[i] ** 2\n",
    "    xm = sumx / n\n",
    "    ym = sumy / n\n",
    "    a1 = (n * sumxy - sumx * sumy) / (n * sumx2 - sumx * sumx)\n",
    "    a0 = ym - a1 * xm\n",
    "    for i in range(n):\n",
    "        st += (y[i] - ym) ** 2\n",
    "        sr += (y[i] - a1 * x[i] - a0) ** 2\n",
    "    syx = (sr / (n - 2)) ** 0.5\n",
    "    r2 = (st - sr) / st\n",
    "    print(f'xm = {xm}')\n",
    "    print(f'ym = {ym}')\n",
    "    print(f'a1 = {a1}')\n",
    "    print(f'a0 = {a0}')\n",
    "    print(f'st = {st}')\n",
    "    print(f'sr = {sr}')\n",
    "    print(f'syx = {syx}')\n",
    "    print(f'r2 = {r2}')"
   ]
  },
  {
   "cell_type": "code",
   "execution_count": 39,
   "metadata": {},
   "outputs": [
    {
     "name": "stdout",
     "output_type": "stream",
     "text": [
      "xm = [30.]\n",
      "ym = 21.833333333333332\n",
      "a1 = [0.54]\n",
      "a0 = [5.63333333]\n",
      "st = 712.8333333333333\n",
      "sr = [202.53333333]\n",
      "syx = [7.11571032]\n",
      "r2 = [0.71587561]\n"
     ]
    }
   ],
   "source": [
    "n = len(x)\n",
    "a1 = model.coef_\n",
    "a0 = model.intercept_\n",
    "calcular_regresion(x, y, n)"
   ]
  }
 ],
 "metadata": {
  "kernelspec": {
   "display_name": "Python 3",
   "language": "python",
   "name": "python3"
  },
  "language_info": {
   "codemirror_mode": {
    "name": "ipython",
    "version": 3
   },
   "file_extension": ".py",
   "mimetype": "text/x-python",
   "name": "python",
   "nbconvert_exporter": "python",
   "pygments_lexer": "ipython3",
   "version": "3.8.5"
  }
 },
 "nbformat": 4,
 "nbformat_minor": 4
}
