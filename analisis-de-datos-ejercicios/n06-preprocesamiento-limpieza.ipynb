{
 "cells": [
  {
   "cell_type": "markdown",
   "metadata": {},
   "source": [
    "# Preprocesamiento y transformación"
   ]
  },
  {
   "cell_type": "markdown",
   "metadata": {},
   "source": [
    "## Limpieza de datos y detección de valores faltantes"
   ]
  },
  {
   "cell_type": "markdown",
   "metadata": {},
   "source": [
    "### Ejemplo 1"
   ]
  },
  {
   "cell_type": "markdown",
   "metadata": {},
   "source": [
    "#### Descripción de los datos\n",
    "\n",
    "- ST_NUM: Street number\n",
    "- ST_NAME: Street name\n",
    "- OWN_OCCUPIED: Is the residence owner occupied\n",
    "- NUM_BEDROOMS: Number of bedroom\n",
    "\n",
    "#### Tipos esperados\n",
    "\n",
    "- ST_NUM: float or int… some sort of numeric type\n",
    "- ST_NAME: string\n",
    "- OWN_OCCUPIED: string… Y (“Yes”) or N (“No”)\n",
    "- NUM_BEDROOMS: float or int, a numeric type\n",
    "\n",
    "---"
   ]
  },
  {
   "cell_type": "markdown",
   "metadata": {},
   "source": [
    "#### Valores faltantes \"estándar\""
   ]
  },
  {
   "cell_type": "code",
   "execution_count": 12,
   "metadata": {},
   "outputs": [
    {
     "name": "stdout",
     "output_type": "stream",
     "text": [
      "           PID  ST_NUM    ST_NAME OWN_OCCUPIED NUM_BEDROOMS NUM_BATH SQ_FT\n",
      "0  100001000.0   104.0     PUTNAM            Y            3        1  1000\n",
      "1  100002000.0   197.0  LEXINGTON            N            3      1.5    --\n",
      "2  100003000.0     NaN  LEXINGTON            N          NaN        1   850\n",
      "3  100004000.0   201.0   BERKELEY           12            1      NaN   700\n",
      "4          NaN   203.0   BERKELEY            Y            3        2  1600\n"
     ]
    }
   ],
   "source": [
    "# Importación de librerías.\n",
    "import pandas as pd\n",
    "import numpy as np\n",
    "\n",
    "# Lee el dataset.\n",
    "df = pd.read_csv('datasets/property_data.csv')\n",
    "\n",
    "# Hecha un vistazo a las primeras filas.\n",
    "print(df.head())"
   ]
  },
  {
   "cell_type": "code",
   "execution_count": 11,
   "metadata": {},
   "outputs": [
    {
     "name": "stdout",
     "output_type": "stream",
     "text": [
      "0    104.0\n",
      "1    197.0\n",
      "2      NaN\n",
      "3    201.0\n",
      "4    203.0\n",
      "5    207.0\n",
      "6      NaN\n",
      "7    213.0\n",
      "8    215.0\n",
      "Name: ST_NUM, dtype: float64\n",
      "0    False\n",
      "1    False\n",
      "2     True\n",
      "3    False\n",
      "4    False\n",
      "5    False\n",
      "6     True\n",
      "7    False\n",
      "8    False\n",
      "Name: ST_NUM, dtype: bool\n"
     ]
    }
   ],
   "source": [
    "# Muestra valores de la columna.\n",
    "print(df['ST_NUM'])\n",
    "\n",
    "# Determina los nulos y no nulos.\n",
    "print(df['ST_NUM'].isnull())"
   ]
  },
  {
   "cell_type": "markdown",
   "metadata": {},
   "source": [
    "#### Valores faltantes \"no estándar\""
   ]
  },
  {
   "cell_type": "code",
   "execution_count": 18,
   "metadata": {},
   "outputs": [
    {
     "name": "stdout",
     "output_type": "stream",
     "text": [
      "0      3\n",
      "1      3\n",
      "2    NaN\n",
      "3      1\n",
      "4      3\n",
      "5    NaN\n",
      "6      2\n",
      "7      1\n",
      "8     na\n",
      "Name: NUM_BEDROOMS, dtype: object\n",
      "0    False\n",
      "1    False\n",
      "2     True\n",
      "3    False\n",
      "4    False\n",
      "5     True\n",
      "6    False\n",
      "7    False\n",
      "8    False\n",
      "Name: NUM_BEDROOMS, dtype: bool\n"
     ]
    }
   ],
   "source": [
    "print(df['NUM_BEDROOMS'])\n",
    "print(df['NUM_BEDROOMS'].isnull()) # Pandas no reconoce todos los valores \n",
    "                                   # que para nosotros son \"faltantes\"."
   ]
  },
  {
   "cell_type": "code",
   "execution_count": 19,
   "metadata": {},
   "outputs": [],
   "source": [
    "# Crea una lista de los tipos de valores faltantes.\n",
    "missing_values = ['n/a', 'na', '--']\n",
    "df = pd.read_csv(\"datasets/property_data.csv\", na_values=missing_values)"
   ]
  },
  {
   "cell_type": "code",
   "execution_count": 20,
   "metadata": {},
   "outputs": [
    {
     "name": "stdout",
     "output_type": "stream",
     "text": [
      "0    3.0\n",
      "1    3.0\n",
      "2    NaN\n",
      "3    1.0\n",
      "4    3.0\n",
      "5    NaN\n",
      "6    2.0\n",
      "7    1.0\n",
      "8    NaN\n",
      "Name: NUM_BEDROOMS, dtype: float64\n",
      "0    False\n",
      "1    False\n",
      "2     True\n",
      "3    False\n",
      "4    False\n",
      "5     True\n",
      "6    False\n",
      "7    False\n",
      "8     True\n",
      "Name: NUM_BEDROOMS, dtype: bool\n"
     ]
    }
   ],
   "source": [
    "# Vuelve a mostrar los valores de la columna para comprobar que los faltantes\n",
    "# ya son detectados.\n",
    "print(df['NUM_BEDROOMS'])\n",
    "print(df['NUM_BEDROOMS'].isnull())"
   ]
  },
  {
   "cell_type": "markdown",
   "metadata": {},
   "source": [
    "#### Valores con tipos \"inesperados\""
   ]
  },
  {
   "cell_type": "code",
   "execution_count": 22,
   "metadata": {},
   "outputs": [
    {
     "name": "stdout",
     "output_type": "stream",
     "text": [
      "0      Y\n",
      "1      N\n",
      "2      N\n",
      "3     12\n",
      "4      Y\n",
      "5      Y\n",
      "6    NaN\n",
      "7      Y\n",
      "8      Y\n",
      "Name: OWN_OCCUPIED, dtype: object\n",
      "0    False\n",
      "1    False\n",
      "2    False\n",
      "3    False\n",
      "4    False\n",
      "5    False\n",
      "6     True\n",
      "7    False\n",
      "8    False\n",
      "Name: OWN_OCCUPIED, dtype: bool\n"
     ]
    }
   ],
   "source": [
    "print(df['OWN_OCCUPIED'])\n",
    "print(df['OWN_OCCUPIED'].isnull())"
   ]
  },
  {
   "cell_type": "code",
   "execution_count": 24,
   "metadata": {},
   "outputs": [],
   "source": [
    "# Busca valores numéricos para una columna que solo permite cadenas,\n",
    "# y convierte el valor a nulo.\n",
    "cnt=0\n",
    "for row in df['OWN_OCCUPIED']:\n",
    "    try:\n",
    "        int(row)\n",
    "        df.loc[cnt, 'OWN_OCCUPIED']=np.nan\n",
    "    except ValueError:\n",
    "        pass\n",
    "    cnt+=1"
   ]
  },
  {
   "cell_type": "code",
   "execution_count": 27,
   "metadata": {},
   "outputs": [
    {
     "name": "stdout",
     "output_type": "stream",
     "text": [
      "PID             1\n",
      "ST_NUM          2\n",
      "ST_NAME         0\n",
      "OWN_OCCUPIED    2\n",
      "NUM_BEDROOMS    3\n",
      "NUM_BATH        1\n",
      "SQ_FT           2\n",
      "dtype: int64\n"
     ]
    }
   ],
   "source": [
    "# Muestra cantidad de nulos para cada característica.\n",
    "print(df.isnull().sum())"
   ]
  },
  {
   "cell_type": "code",
   "execution_count": 29,
   "metadata": {},
   "outputs": [
    {
     "name": "stdout",
     "output_type": "stream",
     "text": [
      "True\n"
     ]
    }
   ],
   "source": [
    "# Determina si hay un nulo en cualquier lugar.\n",
    "print(df.isnull().values.any())"
   ]
  },
  {
   "cell_type": "code",
   "execution_count": 31,
   "metadata": {},
   "outputs": [
    {
     "name": "stdout",
     "output_type": "stream",
     "text": [
      "11\n"
     ]
    }
   ],
   "source": [
    "# Cuenta el total de nulos\n",
    "print(df.isnull().sum().sum())"
   ]
  },
  {
   "cell_type": "markdown",
   "metadata": {},
   "source": [
    "#### Reemplazo de datos faltantes"
   ]
  },
  {
   "cell_type": "code",
   "execution_count": 36,
   "metadata": {},
   "outputs": [],
   "source": [
    "# Reemplaza faltantes con un número.\n",
    "df['ST_NUM'].fillna(125, inplace=True)\n",
    "\n",
    "# Reemplaza en una ubicación específica.\n",
    "df.loc[2,'ST_NUM'] = 125\n",
    "\n",
    "# Reemplaza con la mediana.\n",
    "median = df['NUM_BEDROOMS'].median()\n",
    "df['NUM_BEDROOMS'].fillna(median, inplace=True)"
   ]
  },
  {
   "cell_type": "markdown",
   "metadata": {},
   "source": [
    "---"
   ]
  },
  {
   "cell_type": "markdown",
   "metadata": {},
   "source": [
    "### Ejemplo 2. Cleaning Financial Time Series data"
   ]
  },
  {
   "cell_type": "code",
   "execution_count": 39,
   "metadata": {},
   "outputs": [],
   "source": [
    "# Importa librerías requeridas.\n",
    "import numpy as np\n",
    "import pandas as pd\n",
    "import matplotlib.pyplot as plt\n",
    "import seaborn as sns\n",
    "%matplotlib inline\n",
    "from scipy import stats\n",
    "from datetime import datetime\n",
    "from functools import reduce\n",
    "import datetime"
   ]
  },
  {
   "cell_type": "code",
   "execution_count": 78,
   "metadata": {},
   "outputs": [],
   "source": [
    "# Carga todos los datasets\n",
    "dow     = pd.read_csv('datasets/dow.csv')\n",
    "unemp   = pd.read_csv('datasets/unemp.csv')\n",
    "oil     = pd.read_csv('datasets/oil.csv')\n",
    "hstarts = pd.read_csv('datasets/hstarts.csv')\n",
    "cars    = pd.read_csv('datasets/cars.csv')\n",
    "retail  = pd.read_csv('datasets/retail.csv')"
   ]
  },
  {
   "cell_type": "markdown",
   "metadata": {},
   "source": [
    "#### Visualización de datasets"
   ]
  },
  {
   "cell_type": "code",
   "execution_count": 42,
   "metadata": {},
   "outputs": [
    {
     "data": {
      "text/html": [
       "<div>\n",
       "<style scoped>\n",
       "    .dataframe tbody tr th:only-of-type {\n",
       "        vertical-align: middle;\n",
       "    }\n",
       "\n",
       "    .dataframe tbody tr th {\n",
       "        vertical-align: top;\n",
       "    }\n",
       "\n",
       "    .dataframe thead th {\n",
       "        text-align: right;\n",
       "    }\n",
       "</style>\n",
       "<table border=\"1\" class=\"dataframe\">\n",
       "  <thead>\n",
       "    <tr style=\"text-align: right;\">\n",
       "      <th></th>\n",
       "      <th>Date</th>\n",
       "      <th>Open</th>\n",
       "      <th>High</th>\n",
       "      <th>Low</th>\n",
       "      <th>Close</th>\n",
       "      <th>Adj Close</th>\n",
       "      <th>Volume</th>\n",
       "    </tr>\n",
       "  </thead>\n",
       "  <tbody>\n",
       "    <tr>\n",
       "      <th>0</th>\n",
       "      <td>2019-06-11</td>\n",
       "      <td>26180.589844</td>\n",
       "      <td>26248.669922</td>\n",
       "      <td>25998.869141</td>\n",
       "      <td>26048.509766</td>\n",
       "      <td>26048.509766</td>\n",
       "      <td>253490000</td>\n",
       "    </tr>\n",
       "    <tr>\n",
       "      <th>1</th>\n",
       "      <td>2019-06-12</td>\n",
       "      <td>26040.300781</td>\n",
       "      <td>26082.099609</td>\n",
       "      <td>25958.660156</td>\n",
       "      <td>26004.830078</td>\n",
       "      <td>26004.830078</td>\n",
       "      <td>223690000</td>\n",
       "    </tr>\n",
       "    <tr>\n",
       "      <th>2</th>\n",
       "      <td>2019-06-13</td>\n",
       "      <td>26036.939453</td>\n",
       "      <td>26146.910156</td>\n",
       "      <td>25995.710938</td>\n",
       "      <td>26106.769531</td>\n",
       "      <td>26106.769531</td>\n",
       "      <td>213400000</td>\n",
       "    </tr>\n",
       "    <tr>\n",
       "      <th>3</th>\n",
       "      <td>2019-06-14</td>\n",
       "      <td>26076.359375</td>\n",
       "      <td>26162.279297</td>\n",
       "      <td>25988.089844</td>\n",
       "      <td>26089.609375</td>\n",
       "      <td>26089.609375</td>\n",
       "      <td>208020000</td>\n",
       "    </tr>\n",
       "    <tr>\n",
       "      <th>4</th>\n",
       "      <td>2019-06-17</td>\n",
       "      <td>26108.529297</td>\n",
       "      <td>26165.779297</td>\n",
       "      <td>26049.800781</td>\n",
       "      <td>26112.529297</td>\n",
       "      <td>26112.529297</td>\n",
       "      <td>199500000</td>\n",
       "    </tr>\n",
       "  </tbody>\n",
       "</table>\n",
       "</div>"
      ],
      "text/plain": [
       "         Date          Open          High           Low         Close  \\\n",
       "0  2019-06-11  26180.589844  26248.669922  25998.869141  26048.509766   \n",
       "1  2019-06-12  26040.300781  26082.099609  25958.660156  26004.830078   \n",
       "2  2019-06-13  26036.939453  26146.910156  25995.710938  26106.769531   \n",
       "3  2019-06-14  26076.359375  26162.279297  25988.089844  26089.609375   \n",
       "4  2019-06-17  26108.529297  26165.779297  26049.800781  26112.529297   \n",
       "\n",
       "      Adj Close     Volume  \n",
       "0  26048.509766  253490000  \n",
       "1  26004.830078  223690000  \n",
       "2  26106.769531  213400000  \n",
       "3  26089.609375  208020000  \n",
       "4  26112.529297  199500000  "
      ]
     },
     "execution_count": 42,
     "metadata": {},
     "output_type": "execute_result"
    }
   ],
   "source": [
    "dow.head()"
   ]
  },
  {
   "cell_type": "code",
   "execution_count": 43,
   "metadata": {},
   "outputs": [
    {
     "data": {
      "text/html": [
       "<div>\n",
       "<style scoped>\n",
       "    .dataframe tbody tr th:only-of-type {\n",
       "        vertical-align: middle;\n",
       "    }\n",
       "\n",
       "    .dataframe tbody tr th {\n",
       "        vertical-align: top;\n",
       "    }\n",
       "\n",
       "    .dataframe thead th {\n",
       "        text-align: right;\n",
       "    }\n",
       "</style>\n",
       "<table border=\"1\" class=\"dataframe\">\n",
       "  <thead>\n",
       "    <tr style=\"text-align: right;\">\n",
       "      <th></th>\n",
       "      <th>Date</th>\n",
       "      <th>Open</th>\n",
       "      <th>High</th>\n",
       "      <th>Low</th>\n",
       "      <th>Close</th>\n",
       "      <th>Adj Close</th>\n",
       "      <th>Volume</th>\n",
       "    </tr>\n",
       "  </thead>\n",
       "  <tbody>\n",
       "    <tr>\n",
       "      <th>248</th>\n",
       "      <td>2020-06-04</td>\n",
       "      <td>26226.490234</td>\n",
       "      <td>26384.099609</td>\n",
       "      <td>26082.310547</td>\n",
       "      <td>26281.820313</td>\n",
       "      <td>26281.820313</td>\n",
       "      <td>372190000</td>\n",
       "    </tr>\n",
       "    <tr>\n",
       "      <th>249</th>\n",
       "      <td>2020-06-05</td>\n",
       "      <td>26836.800781</td>\n",
       "      <td>27338.300781</td>\n",
       "      <td>26836.800781</td>\n",
       "      <td>27110.980469</td>\n",
       "      <td>27110.980469</td>\n",
       "      <td>542310000</td>\n",
       "    </tr>\n",
       "    <tr>\n",
       "      <th>250</th>\n",
       "      <td>2020-06-08</td>\n",
       "      <td>27232.929688</td>\n",
       "      <td>27580.210938</td>\n",
       "      <td>27232.480469</td>\n",
       "      <td>27572.439453</td>\n",
       "      <td>27572.439453</td>\n",
       "      <td>430200000</td>\n",
       "    </tr>\n",
       "    <tr>\n",
       "      <th>251</th>\n",
       "      <td>2020-06-09</td>\n",
       "      <td>27447.369141</td>\n",
       "      <td>27447.369141</td>\n",
       "      <td>27151.060547</td>\n",
       "      <td>27272.300781</td>\n",
       "      <td>27272.300781</td>\n",
       "      <td>381430000</td>\n",
       "    </tr>\n",
       "    <tr>\n",
       "      <th>252</th>\n",
       "      <td>2020-06-10</td>\n",
       "      <td>27251.890625</td>\n",
       "      <td>27355.220703</td>\n",
       "      <td>26938.050781</td>\n",
       "      <td>26989.990234</td>\n",
       "      <td>26989.990234</td>\n",
       "      <td>448930000</td>\n",
       "    </tr>\n",
       "  </tbody>\n",
       "</table>\n",
       "</div>"
      ],
      "text/plain": [
       "           Date          Open          High           Low         Close  \\\n",
       "248  2020-06-04  26226.490234  26384.099609  26082.310547  26281.820313   \n",
       "249  2020-06-05  26836.800781  27338.300781  26836.800781  27110.980469   \n",
       "250  2020-06-08  27232.929688  27580.210938  27232.480469  27572.439453   \n",
       "251  2020-06-09  27447.369141  27447.369141  27151.060547  27272.300781   \n",
       "252  2020-06-10  27251.890625  27355.220703  26938.050781  26989.990234   \n",
       "\n",
       "        Adj Close     Volume  \n",
       "248  26281.820313  372190000  \n",
       "249  27110.980469  542310000  \n",
       "250  27572.439453  430200000  \n",
       "251  27272.300781  381430000  \n",
       "252  26989.990234  448930000  "
      ]
     },
     "execution_count": 43,
     "metadata": {},
     "output_type": "execute_result"
    }
   ],
   "source": [
    "dow.tail()"
   ]
  },
  {
   "cell_type": "code",
   "execution_count": 50,
   "metadata": {},
   "outputs": [
    {
     "name": "stdout",
     "output_type": "stream",
     "text": [
      "(253, 7)\n",
      "(869, 2)\n",
      "(397, 2)\n",
      "(736, 2)\n",
      "(533, 2)\n",
      "(340, 2)\n"
     ]
    }
   ],
   "source": [
    "# Crea una lista con los datasets.\n",
    "dflist = [dow, unemp, oil, hstarts, cars, retail]\n",
    "\n",
    "# Para cada dataset, muestra sus dimensiones.\n",
    "for i, dfr in enumerate(dflist):\n",
    "    print(dflist[i].shape)"
   ]
  },
  {
   "cell_type": "code",
   "execution_count": 52,
   "metadata": {},
   "outputs": [
    {
     "name": "stdout",
     "output_type": "stream",
     "text": [
      "               Open          High           Low         Close     Adj Close  \\\n",
      "count    253.000000    253.000000    253.000000    253.000000    253.000000   \n",
      "mean   26376.747869  26550.543216  26185.806486  26375.729087  26375.729087   \n",
      "std     2142.002560   2031.430287   2262.003739   2143.619409   2143.619409   \n",
      "min    19028.359375  19121.009766  18213.650391  18591.929688  18591.929688   \n",
      "25%    25678.169922  25941.250000  25440.390625  25717.740234  25717.740234   \n",
      "50%    26836.800781  26983.449219  26733.330078  26820.250000  26820.250000   \n",
      "75%    27831.230469  27897.279297  27676.970703  27783.039063  27783.039063   \n",
      "max    29440.470703  29568.570313  29406.750000  29551.419922  29551.419922   \n",
      "\n",
      "             Volume  \n",
      "count  2.530000e+02  \n",
      "mean   3.466130e+08  \n",
      "std    1.958864e+08  \n",
      "min    8.615000e+07  \n",
      "25%    2.372200e+08  \n",
      "50%    2.795400e+08  \n",
      "75%    3.893900e+08  \n",
      "max    2.190810e+09  \n",
      "\n",
      "           UNRATE\n",
      "count  869.000000\n",
      "mean     5.746260\n",
      "std      1.692264\n",
      "min      2.500000\n",
      "25%      4.500000\n",
      "50%      5.500000\n",
      "75%      6.800000\n",
      "max     14.700000\n",
      "\n",
      "       MCOILBRENTEU\n",
      "count    397.000000\n",
      "mean      46.443627\n",
      "std       32.558501\n",
      "min        9.820000\n",
      "25%       18.730000\n",
      "50%       31.280000\n",
      "75%       67.210000\n",
      "max      132.720000\n",
      "\n",
      "             HOUST\n",
      "count   736.000000\n",
      "mean   1428.975543\n",
      "std     391.702986\n",
      "min     478.000000\n",
      "25%    1190.000000\n",
      "50%    1452.000000\n",
      "75%    1655.250000\n",
      "max    2494.000000\n",
      "\n",
      "          TOTALSA\n",
      "count  533.000000\n",
      "mean    15.130998\n",
      "std      2.295097\n",
      "min      9.055000\n",
      "25%     13.655000\n",
      "50%     15.405000\n",
      "75%     16.975000\n",
      "max     22.055000\n",
      "\n",
      "               RSXFS\n",
      "count     340.000000\n",
      "mean   298984.323529\n",
      "std     86980.808471\n",
      "min    146805.000000\n",
      "25%    225686.750000\n",
      "50%    303281.000000\n",
      "75%    369215.500000\n",
      "max    464062.000000\n",
      "\n"
     ]
    }
   ],
   "source": [
    "# Muestra valores estadísticos de cada dataset.\n",
    "for i, dfr in enumerate(dflist):\n",
    "    print(dflist[i].describe())\n",
    "    print()"
   ]
  },
  {
   "cell_type": "code",
   "execution_count": 55,
   "metadata": {},
   "outputs": [
    {
     "name": "stdout",
     "output_type": "stream",
     "text": [
      "0\n",
      "0\n",
      "0\n",
      "0\n",
      "0\n",
      "0\n"
     ]
    }
   ],
   "source": [
    "# Muestra cuales datasets tienen valores nulos.\n",
    "for i, dfr in enumerate(dflist):\n",
    "    print(dflist[i].isnull().sum().sum())"
   ]
  },
  {
   "cell_type": "markdown",
   "metadata": {},
   "source": [
    "#### Limpieza de datos"
   ]
  },
  {
   "cell_type": "code",
   "execution_count": 80,
   "metadata": {},
   "outputs": [
    {
     "data": {
      "text/html": [
       "<div>\n",
       "<style scoped>\n",
       "    .dataframe tbody tr th:only-of-type {\n",
       "        vertical-align: middle;\n",
       "    }\n",
       "\n",
       "    .dataframe tbody tr th {\n",
       "        vertical-align: top;\n",
       "    }\n",
       "\n",
       "    .dataframe thead th {\n",
       "        text-align: right;\n",
       "    }\n",
       "</style>\n",
       "<table border=\"1\" class=\"dataframe\">\n",
       "  <thead>\n",
       "    <tr style=\"text-align: right;\">\n",
       "      <th></th>\n",
       "      <th>Date</th>\n",
       "      <th>Close</th>\n",
       "    </tr>\n",
       "  </thead>\n",
       "  <tbody>\n",
       "    <tr>\n",
       "      <th>0</th>\n",
       "      <td>2019-06-11</td>\n",
       "      <td>26048.509766</td>\n",
       "    </tr>\n",
       "    <tr>\n",
       "      <th>1</th>\n",
       "      <td>2019-06-12</td>\n",
       "      <td>26004.830078</td>\n",
       "    </tr>\n",
       "    <tr>\n",
       "      <th>2</th>\n",
       "      <td>2019-06-13</td>\n",
       "      <td>26106.769531</td>\n",
       "    </tr>\n",
       "    <tr>\n",
       "      <th>3</th>\n",
       "      <td>2019-06-14</td>\n",
       "      <td>26089.609375</td>\n",
       "    </tr>\n",
       "    <tr>\n",
       "      <th>4</th>\n",
       "      <td>2019-06-17</td>\n",
       "      <td>26112.529297</td>\n",
       "    </tr>\n",
       "  </tbody>\n",
       "</table>\n",
       "</div>"
      ],
      "text/plain": [
       "         Date         Close\n",
       "0  2019-06-11  26048.509766\n",
       "1  2019-06-12  26004.830078\n",
       "2  2019-06-13  26106.769531\n",
       "3  2019-06-14  26089.609375\n",
       "4  2019-06-17  26112.529297"
      ]
     },
     "execution_count": 80,
     "metadata": {},
     "output_type": "execute_result"
    }
   ],
   "source": [
    "dow = pd.read_csv('datasets/dow.csv')\n",
    "\n",
    "# Elimina columnas innecesarias.\n",
    "dow.drop(['Open', 'High', 'Low', 'Adj Close', 'Volume'], axis=1, inplace=True)\n",
    "\n",
    "# Muestra algunos registros del dataset ya sin las columnas eliminadas.\n",
    "dow.head()"
   ]
  },
  {
   "cell_type": "code",
   "execution_count": 81,
   "metadata": {},
   "outputs": [
    {
     "data": {
      "text/html": [
       "<div>\n",
       "<style scoped>\n",
       "    .dataframe tbody tr th:only-of-type {\n",
       "        vertical-align: middle;\n",
       "    }\n",
       "\n",
       "    .dataframe tbody tr th {\n",
       "        vertical-align: top;\n",
       "    }\n",
       "\n",
       "    .dataframe thead th {\n",
       "        text-align: right;\n",
       "    }\n",
       "</style>\n",
       "<table border=\"1\" class=\"dataframe\">\n",
       "  <thead>\n",
       "    <tr style=\"text-align: right;\">\n",
       "      <th></th>\n",
       "      <th>DATE</th>\n",
       "      <th>OPEN</th>\n",
       "      <th>HIGH</th>\n",
       "      <th>LOW</th>\n",
       "      <th>CLOSE</th>\n",
       "      <th>ADJ CLOSE</th>\n",
       "      <th>VOLUME</th>\n",
       "    </tr>\n",
       "  </thead>\n",
       "  <tbody>\n",
       "    <tr>\n",
       "      <th>0</th>\n",
       "      <td>2019-06-11</td>\n",
       "      <td>26180.589844</td>\n",
       "      <td>26248.669922</td>\n",
       "      <td>25998.869141</td>\n",
       "      <td>26048.509766</td>\n",
       "      <td>26048.509766</td>\n",
       "      <td>253490000</td>\n",
       "    </tr>\n",
       "    <tr>\n",
       "      <th>1</th>\n",
       "      <td>2019-06-12</td>\n",
       "      <td>26040.300781</td>\n",
       "      <td>26082.099609</td>\n",
       "      <td>25958.660156</td>\n",
       "      <td>26004.830078</td>\n",
       "      <td>26004.830078</td>\n",
       "      <td>223690000</td>\n",
       "    </tr>\n",
       "    <tr>\n",
       "      <th>2</th>\n",
       "      <td>2019-06-13</td>\n",
       "      <td>26036.939453</td>\n",
       "      <td>26146.910156</td>\n",
       "      <td>25995.710938</td>\n",
       "      <td>26106.769531</td>\n",
       "      <td>26106.769531</td>\n",
       "      <td>213400000</td>\n",
       "    </tr>\n",
       "    <tr>\n",
       "      <th>3</th>\n",
       "      <td>2019-06-14</td>\n",
       "      <td>26076.359375</td>\n",
       "      <td>26162.279297</td>\n",
       "      <td>25988.089844</td>\n",
       "      <td>26089.609375</td>\n",
       "      <td>26089.609375</td>\n",
       "      <td>208020000</td>\n",
       "    </tr>\n",
       "    <tr>\n",
       "      <th>4</th>\n",
       "      <td>2019-06-17</td>\n",
       "      <td>26108.529297</td>\n",
       "      <td>26165.779297</td>\n",
       "      <td>26049.800781</td>\n",
       "      <td>26112.529297</td>\n",
       "      <td>26112.529297</td>\n",
       "      <td>199500000</td>\n",
       "    </tr>\n",
       "  </tbody>\n",
       "</table>\n",
       "</div>"
      ],
      "text/plain": [
       "         DATE          OPEN          HIGH           LOW         CLOSE  \\\n",
       "0  2019-06-11  26180.589844  26248.669922  25998.869141  26048.509766   \n",
       "1  2019-06-12  26040.300781  26082.099609  25958.660156  26004.830078   \n",
       "2  2019-06-13  26036.939453  26146.910156  25995.710938  26106.769531   \n",
       "3  2019-06-14  26076.359375  26162.279297  25988.089844  26089.609375   \n",
       "4  2019-06-17  26108.529297  26165.779297  26049.800781  26112.529297   \n",
       "\n",
       "      ADJ CLOSE     VOLUME  \n",
       "0  26048.509766  253490000  \n",
       "1  26004.830078  223690000  \n",
       "2  26106.769531  213400000  \n",
       "3  26089.609375  208020000  \n",
       "4  26112.529297  199500000  "
      ]
     },
     "execution_count": 81,
     "metadata": {},
     "output_type": "execute_result"
    }
   ],
   "source": [
    "dow = pd.read_csv('datasets/dow.csv')\n",
    "\n",
    "# Renombra columnas a mayúsculas para que concuerden con los otros datasets.\n",
    "dow.columns = ['DATE', 'OPEN', 'HIGH', 'LOW', 'CLOSE', 'ADJ CLOSE', 'VOLUME']\n",
    "\n",
    "# Muestra resultado final.\n",
    "dow.head()"
   ]
  },
  {
   "cell_type": "code",
   "execution_count": 82,
   "metadata": {},
   "outputs": [
    {
     "data": {
      "text/html": [
       "<div>\n",
       "<style scoped>\n",
       "    .dataframe tbody tr th:only-of-type {\n",
       "        vertical-align: middle;\n",
       "    }\n",
       "\n",
       "    .dataframe tbody tr th {\n",
       "        vertical-align: top;\n",
       "    }\n",
       "\n",
       "    .dataframe thead th {\n",
       "        text-align: right;\n",
       "    }\n",
       "</style>\n",
       "<table border=\"1\" class=\"dataframe\">\n",
       "  <thead>\n",
       "    <tr style=\"text-align: right;\">\n",
       "      <th></th>\n",
       "      <th>DATE</th>\n",
       "      <th>OPEN</th>\n",
       "      <th>HIGH</th>\n",
       "      <th>LOW</th>\n",
       "      <th>CLOSE</th>\n",
       "      <th>ADJ CLOSE</th>\n",
       "      <th>VOLUME</th>\n",
       "      <th>UNRATE</th>\n",
       "      <th>MCOILBRENTEU</th>\n",
       "      <th>HOUST</th>\n",
       "      <th>TOTALSA</th>\n",
       "      <th>RSXFS</th>\n",
       "    </tr>\n",
       "  </thead>\n",
       "  <tbody>\n",
       "    <tr>\n",
       "      <th>14</th>\n",
       "      <td>2019-07-01</td>\n",
       "      <td>26805.859375</td>\n",
       "      <td>26890.640625</td>\n",
       "      <td>26616.210938</td>\n",
       "      <td>26717.429688</td>\n",
       "      <td>26717.429688</td>\n",
       "      <td>267670000.0</td>\n",
       "      <td>3.7</td>\n",
       "      <td>63.92</td>\n",
       "      <td>1212.0</td>\n",
       "      <td>17.442</td>\n",
       "      <td>457485.0</td>\n",
       "    </tr>\n",
       "    <tr>\n",
       "      <th>36</th>\n",
       "      <td>2019-08-01</td>\n",
       "      <td>26879.859375</td>\n",
       "      <td>27175.589844</td>\n",
       "      <td>26548.710938</td>\n",
       "      <td>26583.419922</td>\n",
       "      <td>26583.419922</td>\n",
       "      <td>386320000.0</td>\n",
       "      <td>3.7</td>\n",
       "      <td>59.04</td>\n",
       "      <td>1377.0</td>\n",
       "      <td>17.512</td>\n",
       "      <td>459938.0</td>\n",
       "    </tr>\n",
       "    <tr>\n",
       "      <th>78</th>\n",
       "      <td>2019-10-01</td>\n",
       "      <td>26962.539063</td>\n",
       "      <td>27046.210938</td>\n",
       "      <td>26562.220703</td>\n",
       "      <td>26573.039063</td>\n",
       "      <td>26573.039063</td>\n",
       "      <td>260110000.0</td>\n",
       "      <td>3.6</td>\n",
       "      <td>59.71</td>\n",
       "      <td>1340.0</td>\n",
       "      <td>17.046</td>\n",
       "      <td>459978.0</td>\n",
       "    </tr>\n",
       "    <tr>\n",
       "      <th>101</th>\n",
       "      <td>2019-11-01</td>\n",
       "      <td>27142.949219</td>\n",
       "      <td>27347.429688</td>\n",
       "      <td>27142.949219</td>\n",
       "      <td>27347.359375</td>\n",
       "      <td>27347.359375</td>\n",
       "      <td>270870000.0</td>\n",
       "      <td>3.5</td>\n",
       "      <td>63.21</td>\n",
       "      <td>1371.0</td>\n",
       "      <td>17.447</td>\n",
       "      <td>460760.0</td>\n",
       "    </tr>\n",
       "    <tr>\n",
       "      <th>204</th>\n",
       "      <td>2020-04-01</td>\n",
       "      <td>21227.380859</td>\n",
       "      <td>21487.240234</td>\n",
       "      <td>20784.429688</td>\n",
       "      <td>20943.509766</td>\n",
       "      <td>20943.509766</td>\n",
       "      <td>506680000.0</td>\n",
       "      <td>14.7</td>\n",
       "      <td>18.38</td>\n",
       "      <td>891.0</td>\n",
       "      <td>9.073</td>\n",
       "      <td>371585.0</td>\n",
       "    </tr>\n",
       "  </tbody>\n",
       "</table>\n",
       "</div>"
      ],
      "text/plain": [
       "           DATE          OPEN          HIGH           LOW         CLOSE  \\\n",
       "14   2019-07-01  26805.859375  26890.640625  26616.210938  26717.429688   \n",
       "36   2019-08-01  26879.859375  27175.589844  26548.710938  26583.419922   \n",
       "78   2019-10-01  26962.539063  27046.210938  26562.220703  26573.039063   \n",
       "101  2019-11-01  27142.949219  27347.429688  27142.949219  27347.359375   \n",
       "204  2020-04-01  21227.380859  21487.240234  20784.429688  20943.509766   \n",
       "\n",
       "        ADJ CLOSE       VOLUME  UNRATE  MCOILBRENTEU   HOUST  TOTALSA  \\\n",
       "14   26717.429688  267670000.0     3.7         63.92  1212.0   17.442   \n",
       "36   26583.419922  386320000.0     3.7         59.04  1377.0   17.512   \n",
       "78   26573.039063  260110000.0     3.6         59.71  1340.0   17.046   \n",
       "101  27347.359375  270870000.0     3.5         63.21  1371.0   17.447   \n",
       "204  20943.509766  506680000.0    14.7         18.38   891.0    9.073   \n",
       "\n",
       "        RSXFS  \n",
       "14   457485.0  \n",
       "36   459938.0  \n",
       "78   459978.0  \n",
       "101  460760.0  \n",
       "204  371585.0  "
      ]
     },
     "execution_count": 82,
     "metadata": {},
     "output_type": "execute_result"
    }
   ],
   "source": [
    "# Concatena dataframes en uno solo.\n",
    "dfs = [dow, unemp, oil, hstarts, cars, retail]\n",
    "\n",
    "# Realiza joins con la columna fecha y elimina valores nulos.\n",
    "df = reduce(lambda left,right: pd.merge(left,right,on='DATE', how='outer'), dfs).dropna()\n",
    "df.head(5)"
   ]
  },
  {
   "cell_type": "code",
   "execution_count": 83,
   "metadata": {},
   "outputs": [
    {
     "data": {
      "text/plain": [
       "(5, 12)"
      ]
     },
     "execution_count": 83,
     "metadata": {},
     "output_type": "execute_result"
    }
   ],
   "source": [
    "# Elimina filas con outliers.\n",
    "df = df[(np.abs(stats.zscore(df.drop(['DATE'], axis=1))) < 3).all(axis=1)]\n",
    "\n",
    "# Muestra tamaño final después de eliminar outliers.\n",
    "df.shape"
   ]
  },
  {
   "cell_type": "code",
   "execution_count": 84,
   "metadata": {},
   "outputs": [],
   "source": [
    "# Cambia columna fecha a datetime.datetime de Python.\n",
    "df['DATE'] = df['DATE'].apply(lambda x: datetime.datetime.strptime(x,\"%Y-%m-%d\"))"
   ]
  },
  {
   "cell_type": "code",
   "execution_count": 90,
   "metadata": {},
   "outputs": [
    {
     "data": {
      "text/html": [
       "<div>\n",
       "<style scoped>\n",
       "    .dataframe tbody tr th:only-of-type {\n",
       "        vertical-align: middle;\n",
       "    }\n",
       "\n",
       "    .dataframe tbody tr th {\n",
       "        vertical-align: top;\n",
       "    }\n",
       "\n",
       "    .dataframe thead th {\n",
       "        text-align: right;\n",
       "    }\n",
       "</style>\n",
       "<table border=\"1\" class=\"dataframe\">\n",
       "  <thead>\n",
       "    <tr style=\"text-align: right;\">\n",
       "      <th></th>\n",
       "      <th>DATE</th>\n",
       "      <th>OPEN</th>\n",
       "      <th>HIGH</th>\n",
       "      <th>LOW</th>\n",
       "      <th>CLOSE</th>\n",
       "      <th>ADJ CLOSE</th>\n",
       "      <th>VOLUME</th>\n",
       "      <th>UNEMP %</th>\n",
       "      <th>OIL PRICE</th>\n",
       "      <th>NEW HOMES</th>\n",
       "      <th>NEW CARS SOLD</th>\n",
       "      <th>RETAIL SALES</th>\n",
       "    </tr>\n",
       "  </thead>\n",
       "  <tbody>\n",
       "    <tr>\n",
       "      <th>14</th>\n",
       "      <td>2019-07-01</td>\n",
       "      <td>26805.859375</td>\n",
       "      <td>26890.640625</td>\n",
       "      <td>26616.210938</td>\n",
       "      <td>26717.429688</td>\n",
       "      <td>26717.429688</td>\n",
       "      <td>267670000.0</td>\n",
       "      <td>3.7</td>\n",
       "      <td>63.92</td>\n",
       "      <td>1212.0</td>\n",
       "      <td>17.442</td>\n",
       "      <td>457485.0</td>\n",
       "    </tr>\n",
       "    <tr>\n",
       "      <th>36</th>\n",
       "      <td>2019-08-01</td>\n",
       "      <td>26879.859375</td>\n",
       "      <td>27175.589844</td>\n",
       "      <td>26548.710938</td>\n",
       "      <td>26583.419922</td>\n",
       "      <td>26583.419922</td>\n",
       "      <td>386320000.0</td>\n",
       "      <td>3.7</td>\n",
       "      <td>59.04</td>\n",
       "      <td>1377.0</td>\n",
       "      <td>17.512</td>\n",
       "      <td>459938.0</td>\n",
       "    </tr>\n",
       "    <tr>\n",
       "      <th>78</th>\n",
       "      <td>2019-10-01</td>\n",
       "      <td>26962.539063</td>\n",
       "      <td>27046.210938</td>\n",
       "      <td>26562.220703</td>\n",
       "      <td>26573.039063</td>\n",
       "      <td>26573.039063</td>\n",
       "      <td>260110000.0</td>\n",
       "      <td>3.6</td>\n",
       "      <td>59.71</td>\n",
       "      <td>1340.0</td>\n",
       "      <td>17.046</td>\n",
       "      <td>459978.0</td>\n",
       "    </tr>\n",
       "    <tr>\n",
       "      <th>101</th>\n",
       "      <td>2019-11-01</td>\n",
       "      <td>27142.949219</td>\n",
       "      <td>27347.429688</td>\n",
       "      <td>27142.949219</td>\n",
       "      <td>27347.359375</td>\n",
       "      <td>27347.359375</td>\n",
       "      <td>270870000.0</td>\n",
       "      <td>3.5</td>\n",
       "      <td>63.21</td>\n",
       "      <td>1371.0</td>\n",
       "      <td>17.447</td>\n",
       "      <td>460760.0</td>\n",
       "    </tr>\n",
       "    <tr>\n",
       "      <th>204</th>\n",
       "      <td>2020-04-01</td>\n",
       "      <td>21227.380859</td>\n",
       "      <td>21487.240234</td>\n",
       "      <td>20784.429688</td>\n",
       "      <td>20943.509766</td>\n",
       "      <td>20943.509766</td>\n",
       "      <td>506680000.0</td>\n",
       "      <td>14.7</td>\n",
       "      <td>18.38</td>\n",
       "      <td>891.0</td>\n",
       "      <td>9.073</td>\n",
       "      <td>371585.0</td>\n",
       "    </tr>\n",
       "  </tbody>\n",
       "</table>\n",
       "</div>"
      ],
      "text/plain": [
       "          DATE          OPEN          HIGH           LOW         CLOSE  \\\n",
       "14  2019-07-01  26805.859375  26890.640625  26616.210938  26717.429688   \n",
       "36  2019-08-01  26879.859375  27175.589844  26548.710938  26583.419922   \n",
       "78  2019-10-01  26962.539063  27046.210938  26562.220703  26573.039063   \n",
       "101 2019-11-01  27142.949219  27347.429688  27142.949219  27347.359375   \n",
       "204 2020-04-01  21227.380859  21487.240234  20784.429688  20943.509766   \n",
       "\n",
       "        ADJ CLOSE       VOLUME  UNEMP %  OIL PRICE  NEW HOMES  NEW CARS SOLD  \\\n",
       "14   26717.429688  267670000.0      3.7      63.92     1212.0         17.442   \n",
       "36   26583.419922  386320000.0      3.7      59.04     1377.0         17.512   \n",
       "78   26573.039063  260110000.0      3.6      59.71     1340.0         17.046   \n",
       "101  27347.359375  270870000.0      3.5      63.21     1371.0         17.447   \n",
       "204  20943.509766  506680000.0     14.7      18.38      891.0          9.073   \n",
       "\n",
       "     RETAIL SALES  \n",
       "14       457485.0  \n",
       "36       459938.0  \n",
       "78       459978.0  \n",
       "101      460760.0  \n",
       "204      371585.0  "
      ]
     },
     "execution_count": 90,
     "metadata": {},
     "output_type": "execute_result"
    }
   ],
   "source": [
    "# Renombra columnas a títulos más amigables.\n",
    "df.columns = ['DATE', 'OPEN', 'HIGH', 'LOW', 'CLOSE', 'ADJ CLOSE', 'VOLUME', 'UNEMP %',\n",
    "    'OIL PRICE','NEW HOMES','NEW CARS SOLD', 'RETAIL SALES']\n",
    "\n",
    "# Previsualiza tabla final.\n",
    "df.head(20)"
   ]
  }
 ],
 "metadata": {
  "kernelspec": {
   "display_name": "Python 3",
   "language": "python",
   "name": "python3"
  },
  "language_info": {
   "codemirror_mode": {
    "name": "ipython",
    "version": 3
   },
   "file_extension": ".py",
   "mimetype": "text/x-python",
   "name": "python",
   "nbconvert_exporter": "python",
   "pygments_lexer": "ipython3",
   "version": "3.8.3"
  }
 },
 "nbformat": 4,
 "nbformat_minor": 4
}
