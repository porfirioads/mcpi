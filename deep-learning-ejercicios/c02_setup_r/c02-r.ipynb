{
 "cells": [
  {
   "cell_type": "markdown",
   "id": "4f0eb6af",
   "metadata": {},
   "source": [
    "# Setting Up R for Deep Learning"
   ]
  },
  {
   "cell_type": "markdown",
   "id": "d40c97ed",
   "metadata": {},
   "source": [
    "## Instalación de los paquetes"
   ]
  },
  {
   "cell_type": "markdown",
   "id": "bef2c5e7",
   "metadata": {},
   "source": [
    "### Instalación de ReinforcementLearning"
   ]
  },
  {
   "cell_type": "code",
   "execution_count": 1,
   "id": "db057925",
   "metadata": {},
   "outputs": [
    {
     "name": "stderr",
     "output_type": "stream",
     "text": [
      "Updating HTML index of packages in '.Library'\n",
      "\n",
      "Making 'packages.html' ...\n",
      " done\n",
      "\n"
     ]
    }
   ],
   "source": [
    "install.packages(\"ReinforcementLearning\")"
   ]
  },
  {
   "cell_type": "markdown",
   "id": "65352f63",
   "metadata": {},
   "source": [
    "### Instalación de RBM"
   ]
  },
  {
   "cell_type": "code",
   "execution_count": 2,
   "id": "7b095835",
   "metadata": {},
   "outputs": [
    {
     "name": "stderr",
     "output_type": "stream",
     "text": [
      "Updating HTML index of packages in '.Library'\n",
      "\n",
      "Making 'packages.html' ...\n",
      " done\n",
      "\n",
      "Loading required package: usethis\n",
      "\n",
      "Skipping install of 'RBM' from a github remote, the SHA1 (0fb2b60c) has not changed since last install.\n",
      "  Use `force = TRUE` to force installation\n",
      "\n"
     ]
    }
   ],
   "source": [
    "install.packages(\"devtools\")\n",
    "library(devtools)\n",
    "install_github(\"TimoMatzen/RBM\")"
   ]
  },
  {
   "cell_type": "markdown",
   "id": "804c88c5",
   "metadata": {},
   "source": [
    "### Instalación de Keras"
   ]
  },
  {
   "cell_type": "code",
   "execution_count": 52,
   "id": "5f8bc3cd",
   "metadata": {},
   "outputs": [
    {
     "name": "stderr",
     "output_type": "stream",
     "text": [
      "Downloading GitHub repo rstudio/keras@HEAD\n",
      "\n"
     ]
    },
    {
     "name": "stdout",
     "output_type": "stream",
     "text": [
      "\n",
      "\u001b[32m✔\u001b[39m  \u001b[90mchecking for file ‘/tmp/RtmpWotLyD/remotes2c7371ea7939/rstudio-keras-308e9fd/DESCRIPTION’\u001b[39m\u001b[36m\u001b[39m\n",
      "\u001b[90m─\u001b[39m\u001b[90m  \u001b[39m\u001b[90mpreparing ‘keras’:\u001b[39m\u001b[36m\u001b[39m\n",
      "\u001b[32m✔\u001b[39m  \u001b[90mchecking DESCRIPTION meta-information\u001b[39m\u001b[36m\u001b[39m\n",
      "\u001b[90m─\u001b[39m\u001b[90m  \u001b[39m\u001b[90mchecking for LF line-endings in source and make files and shell scripts\u001b[39m\u001b[36m\u001b[36m (429ms)\u001b[36m\u001b[39m\n",
      "\u001b[90m─\u001b[39m\u001b[90m  \u001b[39m\u001b[90mchecking for empty or unneeded directories\u001b[39m\u001b[36m\u001b[39m\n",
      "   Removed empty directory ‘keras/man-roxygen’\n",
      "\u001b[90m─\u001b[39m\u001b[90m  \u001b[39m\u001b[90mbuilding ‘keras_2.6.0.9001.tar.gz’\u001b[39m\u001b[36m\u001b[39m\n",
      "   \n",
      "\r"
     ]
    },
    {
     "name": "stderr",
     "output_type": "stream",
     "text": [
      "Updating HTML index of packages in '.Library'\n",
      "\n",
      "Making 'packages.html' ...\n",
      " done\n",
      "\n"
     ]
    },
    {
     "ename": "ERROR",
     "evalue": "Error: could not find a Python environment for /home/porfirio/anaconda3/bin/python\n",
     "output_type": "error",
     "traceback": [
      "Error: could not find a Python environment for /home/porfirio/anaconda3/bin/python\nTraceback:\n",
      "1. install_keras()",
      "2. tensorflow::install_tensorflow(method = match.arg(method), conda = conda, \n .     version = tensorflow, extra_packages = pkgs, ...)",
      "3. reticulate::py_install(packages = packages, envname = envname, \n .     method = method, conda = conda, python_version = python_version, \n .     pip = TRUE, ...)",
      "4. python_info(python)",
      "5. stopf(\"could not find a Python environment for %s\", python)",
      "6. stop(sprintf(fmt, ...), call. = call.)"
     ]
    }
   ],
   "source": [
    "devtools::install_github(\"rstudio/keras\")\n",
    "install.packages(\"keras\")\n",
    "install_keras()\n",
    "install_tensorflow()"
   ]
  },
  {
   "cell_type": "markdown",
   "id": "873d1fcc",
   "metadata": {},
   "source": [
    "### Instalación de H2O"
   ]
  },
  {
   "cell_type": "code",
   "execution_count": 7,
   "id": "2666d884",
   "metadata": {},
   "outputs": [
    {
     "name": "stderr",
     "output_type": "stream",
     "text": [
      "Removing package from ‘/home/porfirio/anaconda3/envs/R/lib/R/library’\n",
      "(as ‘lib’ is unspecified)\n",
      "\n",
      "Updating HTML index of packages in '.Library'\n",
      "\n",
      "Making 'packages.html' ...\n",
      " done\n",
      "\n",
      "Updating HTML index of packages in '.Library'\n",
      "\n",
      "Making 'packages.html' ...\n",
      " done\n",
      "\n"
     ]
    }
   ],
   "source": [
    "if (\"package:h2o\" %in% search()) { detach(\"package:h2o\", unload=TRUE) }\n",
    "\n",
    "if (\"h2o\" %in% rownames(installed.packages())) { remove.packages(\"h2o\") }\n",
    "    pkgs <- c(\"RCurl\",\"jsonlite\")\n",
    "    for (pkg in pkgs) {\n",
    "        if (! (pkg %in% rownames(installed.packages()))) { install.packages(pkg)\n",
    "    }\n",
    "}\n",
    "\n",
    "install.packages(\"h2o\", type=\"source\",\n",
    "repos=(c(\"http://h2o-release.s3.amazonaws.com/h2o/latest_stable_R\")))"
   ]
  },
  {
   "cell_type": "markdown",
   "id": "6cd39362",
   "metadata": {},
   "source": [
    "### Instalación de MXNet"
   ]
  },
  {
   "cell_type": "markdown",
   "id": "862ffee7",
   "metadata": {},
   "source": [
    "Ejecutar los siguientes comandos en la terminal:\n",
    "\n",
    "```bash\n",
    "sudo apt-get update\n",
    "sudo apt-get install -y build-essential git ninja-build ccache libopenblas-dev libopencv-dev cmake\n",
    "git clone --recursive https://github.com/apache/incubator-mxnet\n",
    "cd incubator-mxnet\n",
    "cmake . -D USE_CUDA=0\n",
    "make -j $(nproc) USE_OPENCV=1 USE_BLAS=openblas\n",
    "make rpkg\n",
    "```"
   ]
  },
  {
   "cell_type": "markdown",
   "id": "cd195a17",
   "metadata": {},
   "source": [
    "## Preparación de un dataset de ejemplo"
   ]
  },
  {
   "cell_type": "markdown",
   "id": "c8c8d712",
   "metadata": {},
   "source": [
    "Se realiza la carga de los datos:"
   ]
  },
  {
   "cell_type": "code",
   "execution_count": 36,
   "id": "26b7deb9",
   "metadata": {},
   "outputs": [],
   "source": [
    "library(tidyverse)\n",
    "library(caret)\n",
    "\n",
    "train <- read.csv(\"adult_processed_train.csv\")\n",
    "train <- train %>% dplyr::mutate(dataset = \"train\")\n",
    "test <- read.csv(\"adult_processed_test.csv\")\n",
    "test <- test %>% dplyr::mutate(dataset = \"test\")"
   ]
  },
  {
   "cell_type": "markdown",
   "id": "499b2763",
   "metadata": {},
   "source": [
    "Se combinan los datasets para hacer cambios a todos los datos al mismo tiempo:"
   ]
  },
  {
   "cell_type": "code",
   "execution_count": 39,
   "id": "a44f37ac",
   "metadata": {},
   "outputs": [
    {
     "data": {
      "text/html": [
       "<table class=\"dataframe\">\n",
       "<caption>A data.frame: 48842 × 16</caption>\n",
       "<thead>\n",
       "\t<tr><th></th><th scope=col>age</th><th scope=col>workclass</th><th scope=col>fnlwgt</th><th scope=col>education</th><th scope=col>educational.num</th><th scope=col>marital.status</th><th scope=col>occupation</th><th scope=col>relationship</th><th scope=col>race</th><th scope=col>gender</th><th scope=col>capital.gain</th><th scope=col>capital.loss</th><th scope=col>hours.per.week</th><th scope=col>native.country</th><th scope=col>income</th><th scope=col>dataset</th></tr>\n",
       "\t<tr><th></th><th scope=col>&lt;chr&gt;</th><th scope=col>&lt;chr&gt;</th><th scope=col>&lt;int&gt;</th><th scope=col>&lt;chr&gt;</th><th scope=col>&lt;int&gt;</th><th scope=col>&lt;chr&gt;</th><th scope=col>&lt;chr&gt;</th><th scope=col>&lt;chr&gt;</th><th scope=col>&lt;chr&gt;</th><th scope=col>&lt;chr&gt;</th><th scope=col>&lt;int&gt;</th><th scope=col>&lt;int&gt;</th><th scope=col>&lt;int&gt;</th><th scope=col>&lt;chr&gt;</th><th scope=col>&lt;chr&gt;</th><th scope=col>&lt;chr&gt;</th></tr>\n",
       "</thead>\n",
       "<tbody>\n",
       "\t<tr><th scope=row>1</th><td>39</td><td><span style=white-space:pre-wrap>State-gov       </span></td><td> 77516</td><td><span style=white-space:pre-wrap>Bachelors   </span></td><td>13</td><td><span style=white-space:pre-wrap>Never-married        </span></td><td><span style=white-space:pre-wrap>Adm-clerical     </span></td><td>Not-in-family</td><td><span style=white-space:pre-wrap>White             </span></td><td><span style=white-space:pre-wrap>Male  </span></td><td> 2174</td><td><span style=white-space:pre-wrap>   0</span></td><td>40</td><td>United-States</td><td>&lt;=50K</td><td>train</td></tr>\n",
       "\t<tr><th scope=row>2</th><td>50</td><td>Self-emp-not-inc</td><td> 83311</td><td><span style=white-space:pre-wrap>Bachelors   </span></td><td>13</td><td><span style=white-space:pre-wrap>Married-civ-spouse   </span></td><td><span style=white-space:pre-wrap>Exec-managerial  </span></td><td><span style=white-space:pre-wrap>Husband      </span></td><td><span style=white-space:pre-wrap>White             </span></td><td><span style=white-space:pre-wrap>Male  </span></td><td><span style=white-space:pre-wrap>    0</span></td><td><span style=white-space:pre-wrap>   0</span></td><td>13</td><td>United-States</td><td>&lt;=50K</td><td>train</td></tr>\n",
       "\t<tr><th scope=row>3</th><td>38</td><td><span style=white-space:pre-wrap>Private         </span></td><td>215646</td><td><span style=white-space:pre-wrap>HS-grad     </span></td><td> 9</td><td><span style=white-space:pre-wrap>Divorced             </span></td><td>Handlers-cleaners</td><td>Not-in-family</td><td><span style=white-space:pre-wrap>White             </span></td><td><span style=white-space:pre-wrap>Male  </span></td><td><span style=white-space:pre-wrap>    0</span></td><td><span style=white-space:pre-wrap>   0</span></td><td>40</td><td>United-States</td><td>&lt;=50K</td><td>train</td></tr>\n",
       "\t<tr><th scope=row>4</th><td>53</td><td><span style=white-space:pre-wrap>Private         </span></td><td>234721</td><td><span style=white-space:pre-wrap>11th        </span></td><td> 7</td><td><span style=white-space:pre-wrap>Married-civ-spouse   </span></td><td>Handlers-cleaners</td><td><span style=white-space:pre-wrap>Husband      </span></td><td><span style=white-space:pre-wrap>Black             </span></td><td><span style=white-space:pre-wrap>Male  </span></td><td><span style=white-space:pre-wrap>    0</span></td><td><span style=white-space:pre-wrap>   0</span></td><td>40</td><td>United-States</td><td>&lt;=50K</td><td>train</td></tr>\n",
       "\t<tr><th scope=row>5</th><td>28</td><td><span style=white-space:pre-wrap>Private         </span></td><td>338409</td><td><span style=white-space:pre-wrap>Bachelors   </span></td><td>13</td><td><span style=white-space:pre-wrap>Married-civ-spouse   </span></td><td><span style=white-space:pre-wrap>Prof-specialty   </span></td><td><span style=white-space:pre-wrap>Wife         </span></td><td><span style=white-space:pre-wrap>Black             </span></td><td>Female</td><td><span style=white-space:pre-wrap>    0</span></td><td><span style=white-space:pre-wrap>   0</span></td><td>40</td><td><span style=white-space:pre-wrap>Cuba         </span></td><td>&lt;=50K</td><td>train</td></tr>\n",
       "\t<tr><th scope=row>6</th><td>37</td><td><span style=white-space:pre-wrap>Private         </span></td><td>284582</td><td><span style=white-space:pre-wrap>Masters     </span></td><td>14</td><td><span style=white-space:pre-wrap>Married-civ-spouse   </span></td><td><span style=white-space:pre-wrap>Exec-managerial  </span></td><td><span style=white-space:pre-wrap>Wife         </span></td><td><span style=white-space:pre-wrap>White             </span></td><td>Female</td><td><span style=white-space:pre-wrap>    0</span></td><td><span style=white-space:pre-wrap>   0</span></td><td>40</td><td>United-States</td><td>&lt;=50K</td><td>train</td></tr>\n",
       "\t<tr><th scope=row>7</th><td>49</td><td><span style=white-space:pre-wrap>Private         </span></td><td>160187</td><td><span style=white-space:pre-wrap>9th         </span></td><td> 5</td><td>Married-spouse-absent</td><td><span style=white-space:pre-wrap>Other-service    </span></td><td>Not-in-family</td><td><span style=white-space:pre-wrap>Black             </span></td><td>Female</td><td><span style=white-space:pre-wrap>    0</span></td><td><span style=white-space:pre-wrap>   0</span></td><td>16</td><td><span style=white-space:pre-wrap>Jamaica      </span></td><td>&lt;=50K</td><td>train</td></tr>\n",
       "\t<tr><th scope=row>8</th><td>52</td><td>Self-emp-not-inc</td><td>209642</td><td><span style=white-space:pre-wrap>HS-grad     </span></td><td> 9</td><td><span style=white-space:pre-wrap>Married-civ-spouse   </span></td><td><span style=white-space:pre-wrap>Exec-managerial  </span></td><td><span style=white-space:pre-wrap>Husband      </span></td><td><span style=white-space:pre-wrap>White             </span></td><td><span style=white-space:pre-wrap>Male  </span></td><td><span style=white-space:pre-wrap>    0</span></td><td><span style=white-space:pre-wrap>   0</span></td><td>45</td><td>United-States</td><td>&gt;50K </td><td>train</td></tr>\n",
       "\t<tr><th scope=row>9</th><td>31</td><td><span style=white-space:pre-wrap>Private         </span></td><td> 45781</td><td><span style=white-space:pre-wrap>Masters     </span></td><td>14</td><td><span style=white-space:pre-wrap>Never-married        </span></td><td><span style=white-space:pre-wrap>Prof-specialty   </span></td><td>Not-in-family</td><td><span style=white-space:pre-wrap>White             </span></td><td>Female</td><td>14084</td><td><span style=white-space:pre-wrap>   0</span></td><td>50</td><td>United-States</td><td>&gt;50K </td><td>train</td></tr>\n",
       "\t<tr><th scope=row>10</th><td>42</td><td><span style=white-space:pre-wrap>Private         </span></td><td>159449</td><td><span style=white-space:pre-wrap>Bachelors   </span></td><td>13</td><td><span style=white-space:pre-wrap>Married-civ-spouse   </span></td><td><span style=white-space:pre-wrap>Exec-managerial  </span></td><td><span style=white-space:pre-wrap>Husband      </span></td><td><span style=white-space:pre-wrap>White             </span></td><td><span style=white-space:pre-wrap>Male  </span></td><td> 5178</td><td><span style=white-space:pre-wrap>   0</span></td><td>40</td><td>United-States</td><td>&gt;50K </td><td>train</td></tr>\n",
       "\t<tr><th scope=row>11</th><td>37</td><td><span style=white-space:pre-wrap>Private         </span></td><td>280464</td><td>Some-college</td><td>10</td><td><span style=white-space:pre-wrap>Married-civ-spouse   </span></td><td><span style=white-space:pre-wrap>Exec-managerial  </span></td><td><span style=white-space:pre-wrap>Husband      </span></td><td><span style=white-space:pre-wrap>Black             </span></td><td><span style=white-space:pre-wrap>Male  </span></td><td><span style=white-space:pre-wrap>    0</span></td><td><span style=white-space:pre-wrap>   0</span></td><td>80</td><td>United-States</td><td>&gt;50K </td><td>train</td></tr>\n",
       "\t<tr><th scope=row>12</th><td>30</td><td><span style=white-space:pre-wrap>State-gov       </span></td><td>141297</td><td><span style=white-space:pre-wrap>Bachelors   </span></td><td>13</td><td><span style=white-space:pre-wrap>Married-civ-spouse   </span></td><td><span style=white-space:pre-wrap>Prof-specialty   </span></td><td><span style=white-space:pre-wrap>Husband      </span></td><td>Asian-Pac-Islander</td><td><span style=white-space:pre-wrap>Male  </span></td><td><span style=white-space:pre-wrap>    0</span></td><td><span style=white-space:pre-wrap>   0</span></td><td>40</td><td><span style=white-space:pre-wrap>India        </span></td><td>&gt;50K </td><td>train</td></tr>\n",
       "\t<tr><th scope=row>13</th><td>23</td><td><span style=white-space:pre-wrap>Private         </span></td><td>122272</td><td><span style=white-space:pre-wrap>Bachelors   </span></td><td>13</td><td><span style=white-space:pre-wrap>Never-married        </span></td><td><span style=white-space:pre-wrap>Adm-clerical     </span></td><td><span style=white-space:pre-wrap>Own-child    </span></td><td><span style=white-space:pre-wrap>White             </span></td><td>Female</td><td><span style=white-space:pre-wrap>    0</span></td><td><span style=white-space:pre-wrap>   0</span></td><td>30</td><td>United-States</td><td>&lt;=50K</td><td>train</td></tr>\n",
       "\t<tr><th scope=row>14</th><td>32</td><td><span style=white-space:pre-wrap>Private         </span></td><td>205019</td><td><span style=white-space:pre-wrap>Assoc-acdm  </span></td><td>12</td><td><span style=white-space:pre-wrap>Never-married        </span></td><td><span style=white-space:pre-wrap>Sales            </span></td><td>Not-in-family</td><td><span style=white-space:pre-wrap>Black             </span></td><td><span style=white-space:pre-wrap>Male  </span></td><td><span style=white-space:pre-wrap>    0</span></td><td><span style=white-space:pre-wrap>   0</span></td><td>50</td><td>United-States</td><td>&lt;=50K</td><td>train</td></tr>\n",
       "\t<tr><th scope=row>15</th><td>40</td><td><span style=white-space:pre-wrap>Private         </span></td><td>121772</td><td><span style=white-space:pre-wrap>Assoc-voc   </span></td><td>11</td><td><span style=white-space:pre-wrap>Married-civ-spouse   </span></td><td><span style=white-space:pre-wrap>Craft-repair     </span></td><td><span style=white-space:pre-wrap>Husband      </span></td><td>Asian-Pac-Islander</td><td><span style=white-space:pre-wrap>Male  </span></td><td><span style=white-space:pre-wrap>    0</span></td><td><span style=white-space:pre-wrap>   0</span></td><td>40</td><td><span style=white-space:pre-wrap>?            </span></td><td>&gt;50K </td><td>train</td></tr>\n",
       "\t<tr><th scope=row>16</th><td>34</td><td><span style=white-space:pre-wrap>Private         </span></td><td>245487</td><td><span style=white-space:pre-wrap>7th-8th     </span></td><td> 4</td><td><span style=white-space:pre-wrap>Married-civ-spouse   </span></td><td>Transport-moving </td><td><span style=white-space:pre-wrap>Husband      </span></td><td>Amer-Indian-Eskimo</td><td><span style=white-space:pre-wrap>Male  </span></td><td><span style=white-space:pre-wrap>    0</span></td><td><span style=white-space:pre-wrap>   0</span></td><td>45</td><td><span style=white-space:pre-wrap>Mexico       </span></td><td>&lt;=50K</td><td>train</td></tr>\n",
       "\t<tr><th scope=row>17</th><td>25</td><td>Self-emp-not-inc</td><td>176756</td><td><span style=white-space:pre-wrap>HS-grad     </span></td><td> 9</td><td><span style=white-space:pre-wrap>Never-married        </span></td><td><span style=white-space:pre-wrap>Farming-fishing  </span></td><td><span style=white-space:pre-wrap>Own-child    </span></td><td><span style=white-space:pre-wrap>White             </span></td><td><span style=white-space:pre-wrap>Male  </span></td><td><span style=white-space:pre-wrap>    0</span></td><td><span style=white-space:pre-wrap>   0</span></td><td>35</td><td>United-States</td><td>&lt;=50K</td><td>train</td></tr>\n",
       "\t<tr><th scope=row>18</th><td>32</td><td><span style=white-space:pre-wrap>Private         </span></td><td>186824</td><td><span style=white-space:pre-wrap>HS-grad     </span></td><td> 9</td><td><span style=white-space:pre-wrap>Never-married        </span></td><td>Machine-op-inspct</td><td><span style=white-space:pre-wrap>Unmarried    </span></td><td><span style=white-space:pre-wrap>White             </span></td><td><span style=white-space:pre-wrap>Male  </span></td><td><span style=white-space:pre-wrap>    0</span></td><td><span style=white-space:pre-wrap>   0</span></td><td>40</td><td>United-States</td><td>&lt;=50K</td><td>train</td></tr>\n",
       "\t<tr><th scope=row>19</th><td>38</td><td><span style=white-space:pre-wrap>Private         </span></td><td> 28887</td><td><span style=white-space:pre-wrap>11th        </span></td><td> 7</td><td><span style=white-space:pre-wrap>Married-civ-spouse   </span></td><td><span style=white-space:pre-wrap>Sales            </span></td><td><span style=white-space:pre-wrap>Husband      </span></td><td><span style=white-space:pre-wrap>White             </span></td><td><span style=white-space:pre-wrap>Male  </span></td><td><span style=white-space:pre-wrap>    0</span></td><td><span style=white-space:pre-wrap>   0</span></td><td>50</td><td>United-States</td><td>&lt;=50K</td><td>train</td></tr>\n",
       "\t<tr><th scope=row>20</th><td>43</td><td>Self-emp-not-inc</td><td>292175</td><td><span style=white-space:pre-wrap>Masters     </span></td><td>14</td><td><span style=white-space:pre-wrap>Divorced             </span></td><td><span style=white-space:pre-wrap>Exec-managerial  </span></td><td><span style=white-space:pre-wrap>Unmarried    </span></td><td><span style=white-space:pre-wrap>White             </span></td><td>Female</td><td><span style=white-space:pre-wrap>    0</span></td><td><span style=white-space:pre-wrap>   0</span></td><td>45</td><td>United-States</td><td>&gt;50K </td><td>train</td></tr>\n",
       "\t<tr><th scope=row>21</th><td>40</td><td><span style=white-space:pre-wrap>Private         </span></td><td>193524</td><td><span style=white-space:pre-wrap>Doctorate   </span></td><td>16</td><td><span style=white-space:pre-wrap>Married-civ-spouse   </span></td><td><span style=white-space:pre-wrap>Prof-specialty   </span></td><td><span style=white-space:pre-wrap>Husband      </span></td><td><span style=white-space:pre-wrap>White             </span></td><td><span style=white-space:pre-wrap>Male  </span></td><td><span style=white-space:pre-wrap>    0</span></td><td><span style=white-space:pre-wrap>   0</span></td><td>60</td><td>United-States</td><td>&gt;50K </td><td>train</td></tr>\n",
       "\t<tr><th scope=row>22</th><td>54</td><td><span style=white-space:pre-wrap>Private         </span></td><td>302146</td><td><span style=white-space:pre-wrap>HS-grad     </span></td><td> 9</td><td><span style=white-space:pre-wrap>Separated            </span></td><td><span style=white-space:pre-wrap>Other-service    </span></td><td><span style=white-space:pre-wrap>Unmarried    </span></td><td><span style=white-space:pre-wrap>Black             </span></td><td>Female</td><td><span style=white-space:pre-wrap>    0</span></td><td><span style=white-space:pre-wrap>   0</span></td><td>20</td><td>United-States</td><td>&lt;=50K</td><td>train</td></tr>\n",
       "\t<tr><th scope=row>23</th><td>35</td><td><span style=white-space:pre-wrap>Federal-gov     </span></td><td> 76845</td><td><span style=white-space:pre-wrap>9th         </span></td><td> 5</td><td><span style=white-space:pre-wrap>Married-civ-spouse   </span></td><td><span style=white-space:pre-wrap>Farming-fishing  </span></td><td><span style=white-space:pre-wrap>Husband      </span></td><td><span style=white-space:pre-wrap>Black             </span></td><td><span style=white-space:pre-wrap>Male  </span></td><td><span style=white-space:pre-wrap>    0</span></td><td><span style=white-space:pre-wrap>   0</span></td><td>40</td><td>United-States</td><td>&lt;=50K</td><td>train</td></tr>\n",
       "\t<tr><th scope=row>24</th><td>43</td><td><span style=white-space:pre-wrap>Private         </span></td><td>117037</td><td><span style=white-space:pre-wrap>11th        </span></td><td> 7</td><td><span style=white-space:pre-wrap>Married-civ-spouse   </span></td><td>Transport-moving </td><td><span style=white-space:pre-wrap>Husband      </span></td><td><span style=white-space:pre-wrap>White             </span></td><td><span style=white-space:pre-wrap>Male  </span></td><td><span style=white-space:pre-wrap>    0</span></td><td>2042</td><td>40</td><td>United-States</td><td>&lt;=50K</td><td>train</td></tr>\n",
       "\t<tr><th scope=row>25</th><td>59</td><td><span style=white-space:pre-wrap>Private         </span></td><td>109015</td><td><span style=white-space:pre-wrap>HS-grad     </span></td><td> 9</td><td><span style=white-space:pre-wrap>Divorced             </span></td><td><span style=white-space:pre-wrap>Tech-support     </span></td><td><span style=white-space:pre-wrap>Unmarried    </span></td><td><span style=white-space:pre-wrap>White             </span></td><td>Female</td><td><span style=white-space:pre-wrap>    0</span></td><td><span style=white-space:pre-wrap>   0</span></td><td>40</td><td>United-States</td><td>&lt;=50K</td><td>train</td></tr>\n",
       "\t<tr><th scope=row>26</th><td>56</td><td><span style=white-space:pre-wrap>Local-gov       </span></td><td>216851</td><td><span style=white-space:pre-wrap>Bachelors   </span></td><td>13</td><td><span style=white-space:pre-wrap>Married-civ-spouse   </span></td><td><span style=white-space:pre-wrap>Tech-support     </span></td><td><span style=white-space:pre-wrap>Husband      </span></td><td><span style=white-space:pre-wrap>White             </span></td><td><span style=white-space:pre-wrap>Male  </span></td><td><span style=white-space:pre-wrap>    0</span></td><td><span style=white-space:pre-wrap>   0</span></td><td>40</td><td>United-States</td><td>&gt;50K </td><td>train</td></tr>\n",
       "\t<tr><th scope=row>27</th><td>19</td><td><span style=white-space:pre-wrap>Private         </span></td><td>168294</td><td><span style=white-space:pre-wrap>HS-grad     </span></td><td> 9</td><td><span style=white-space:pre-wrap>Never-married        </span></td><td><span style=white-space:pre-wrap>Craft-repair     </span></td><td><span style=white-space:pre-wrap>Own-child    </span></td><td><span style=white-space:pre-wrap>White             </span></td><td><span style=white-space:pre-wrap>Male  </span></td><td><span style=white-space:pre-wrap>    0</span></td><td><span style=white-space:pre-wrap>   0</span></td><td>40</td><td>United-States</td><td>&lt;=50K</td><td>train</td></tr>\n",
       "\t<tr><th scope=row>28</th><td>54</td><td><span style=white-space:pre-wrap>?               </span></td><td>180211</td><td>Some-college</td><td>10</td><td><span style=white-space:pre-wrap>Married-civ-spouse   </span></td><td><span style=white-space:pre-wrap>?                </span></td><td><span style=white-space:pre-wrap>Husband      </span></td><td>Asian-Pac-Islander</td><td><span style=white-space:pre-wrap>Male  </span></td><td><span style=white-space:pre-wrap>    0</span></td><td><span style=white-space:pre-wrap>   0</span></td><td>60</td><td><span style=white-space:pre-wrap>South        </span></td><td>&gt;50K </td><td>train</td></tr>\n",
       "\t<tr><th scope=row>29</th><td>39</td><td><span style=white-space:pre-wrap>Private         </span></td><td>367260</td><td><span style=white-space:pre-wrap>HS-grad     </span></td><td> 9</td><td><span style=white-space:pre-wrap>Divorced             </span></td><td><span style=white-space:pre-wrap>Exec-managerial  </span></td><td>Not-in-family</td><td><span style=white-space:pre-wrap>White             </span></td><td><span style=white-space:pre-wrap>Male  </span></td><td><span style=white-space:pre-wrap>    0</span></td><td><span style=white-space:pre-wrap>   0</span></td><td>80</td><td>United-States</td><td>&lt;=50K</td><td>train</td></tr>\n",
       "\t<tr><th scope=row>30</th><td>49</td><td><span style=white-space:pre-wrap>Private         </span></td><td>193366</td><td><span style=white-space:pre-wrap>HS-grad     </span></td><td> 9</td><td><span style=white-space:pre-wrap>Married-civ-spouse   </span></td><td><span style=white-space:pre-wrap>Craft-repair     </span></td><td><span style=white-space:pre-wrap>Husband      </span></td><td><span style=white-space:pre-wrap>White             </span></td><td><span style=white-space:pre-wrap>Male  </span></td><td><span style=white-space:pre-wrap>    0</span></td><td><span style=white-space:pre-wrap>   0</span></td><td>40</td><td>United-States</td><td>&lt;=50K</td><td>train</td></tr>\n",
       "\t<tr><th scope=row>⋮</th><td>⋮</td><td>⋮</td><td>⋮</td><td>⋮</td><td>⋮</td><td>⋮</td><td>⋮</td><td>⋮</td><td>⋮</td><td>⋮</td><td>⋮</td><td>⋮</td><td>⋮</td><td>⋮</td><td>⋮</td><td>⋮</td></tr>\n",
       "\t<tr><th scope=row>48814</th><td>81</td><td><span style=white-space:pre-wrap>?               </span></td><td> 26711</td><td><span style=white-space:pre-wrap>Assoc-voc   </span></td><td>11</td><td>Married-civ-spouse</td><td><span style=white-space:pre-wrap>?                </span></td><td><span style=white-space:pre-wrap>Husband       </span></td><td><span style=white-space:pre-wrap>White             </span></td><td><span style=white-space:pre-wrap>Male  </span></td><td> 2936</td><td><span style=white-space:pre-wrap>   0</span></td><td>20</td><td>United-States</td><td>&lt;=50K.</td><td>test</td></tr>\n",
       "\t<tr><th scope=row>48815</th><td>60</td><td><span style=white-space:pre-wrap>Private         </span></td><td>117909</td><td><span style=white-space:pre-wrap>Assoc-voc   </span></td><td>11</td><td>Married-civ-spouse</td><td><span style=white-space:pre-wrap>Prof-specialty   </span></td><td><span style=white-space:pre-wrap>Husband       </span></td><td><span style=white-space:pre-wrap>White             </span></td><td><span style=white-space:pre-wrap>Male  </span></td><td> 7688</td><td><span style=white-space:pre-wrap>   0</span></td><td>40</td><td>United-States</td><td>&gt;50K. </td><td>test</td></tr>\n",
       "\t<tr><th scope=row>48816</th><td>39</td><td><span style=white-space:pre-wrap>Private         </span></td><td>229647</td><td><span style=white-space:pre-wrap>Bachelors   </span></td><td>13</td><td><span style=white-space:pre-wrap>Never-married     </span></td><td><span style=white-space:pre-wrap>Tech-support     </span></td><td>Not-in-family </td><td><span style=white-space:pre-wrap>White             </span></td><td>Female</td><td><span style=white-space:pre-wrap>    0</span></td><td>1669</td><td>40</td><td>United-States</td><td>&lt;=50K.</td><td>test</td></tr>\n",
       "\t<tr><th scope=row>48817</th><td>38</td><td><span style=white-space:pre-wrap>Private         </span></td><td>149347</td><td><span style=white-space:pre-wrap>Masters     </span></td><td>14</td><td>Married-civ-spouse</td><td><span style=white-space:pre-wrap>Prof-specialty   </span></td><td><span style=white-space:pre-wrap>Husband       </span></td><td><span style=white-space:pre-wrap>White             </span></td><td><span style=white-space:pre-wrap>Male  </span></td><td><span style=white-space:pre-wrap>    0</span></td><td><span style=white-space:pre-wrap>   0</span></td><td>50</td><td>United-States</td><td>&gt;50K. </td><td>test</td></tr>\n",
       "\t<tr><th scope=row>48818</th><td>43</td><td><span style=white-space:pre-wrap>Local-gov       </span></td><td> 23157</td><td><span style=white-space:pre-wrap>Masters     </span></td><td>14</td><td>Married-civ-spouse</td><td><span style=white-space:pre-wrap>Exec-managerial  </span></td><td><span style=white-space:pre-wrap>Husband       </span></td><td><span style=white-space:pre-wrap>White             </span></td><td><span style=white-space:pre-wrap>Male  </span></td><td><span style=white-space:pre-wrap>    0</span></td><td>1902</td><td>50</td><td>United-States</td><td>&gt;50K. </td><td>test</td></tr>\n",
       "\t<tr><th scope=row>48819</th><td>23</td><td><span style=white-space:pre-wrap>Private         </span></td><td> 93977</td><td><span style=white-space:pre-wrap>HS-grad     </span></td><td> 9</td><td><span style=white-space:pre-wrap>Never-married     </span></td><td>Machine-op-inspct</td><td><span style=white-space:pre-wrap>Own-child     </span></td><td><span style=white-space:pre-wrap>White             </span></td><td><span style=white-space:pre-wrap>Male  </span></td><td><span style=white-space:pre-wrap>    0</span></td><td><span style=white-space:pre-wrap>   0</span></td><td>40</td><td>United-States</td><td>&lt;=50K.</td><td>test</td></tr>\n",
       "\t<tr><th scope=row>48820</th><td>73</td><td><span style=white-space:pre-wrap>Self-emp-inc    </span></td><td>159691</td><td>Some-college</td><td>10</td><td><span style=white-space:pre-wrap>Divorced          </span></td><td><span style=white-space:pre-wrap>Exec-managerial  </span></td><td>Not-in-family </td><td><span style=white-space:pre-wrap>White             </span></td><td>Female</td><td><span style=white-space:pre-wrap>    0</span></td><td><span style=white-space:pre-wrap>   0</span></td><td>40</td><td>United-States</td><td>&lt;=50K.</td><td>test</td></tr>\n",
       "\t<tr><th scope=row>48821</th><td>35</td><td><span style=white-space:pre-wrap>Private         </span></td><td>176967</td><td>Some-college</td><td>10</td><td>Married-civ-spouse</td><td><span style=white-space:pre-wrap>Protective-serv  </span></td><td><span style=white-space:pre-wrap>Husband       </span></td><td><span style=white-space:pre-wrap>White             </span></td><td><span style=white-space:pre-wrap>Male  </span></td><td><span style=white-space:pre-wrap>    0</span></td><td><span style=white-space:pre-wrap>   0</span></td><td>40</td><td>United-States</td><td>&lt;=50K.</td><td>test</td></tr>\n",
       "\t<tr><th scope=row>48822</th><td>66</td><td><span style=white-space:pre-wrap>Private         </span></td><td>344436</td><td><span style=white-space:pre-wrap>HS-grad     </span></td><td> 9</td><td><span style=white-space:pre-wrap>Widowed           </span></td><td><span style=white-space:pre-wrap>Sales            </span></td><td>Other-relative</td><td><span style=white-space:pre-wrap>White             </span></td><td>Female</td><td><span style=white-space:pre-wrap>    0</span></td><td><span style=white-space:pre-wrap>   0</span></td><td> 8</td><td>United-States</td><td>&lt;=50K.</td><td>test</td></tr>\n",
       "\t<tr><th scope=row>48823</th><td>27</td><td><span style=white-space:pre-wrap>Private         </span></td><td>430340</td><td>Some-college</td><td>10</td><td><span style=white-space:pre-wrap>Never-married     </span></td><td><span style=white-space:pre-wrap>Sales            </span></td><td>Not-in-family </td><td><span style=white-space:pre-wrap>White             </span></td><td>Female</td><td><span style=white-space:pre-wrap>    0</span></td><td><span style=white-space:pre-wrap>   0</span></td><td>45</td><td>United-States</td><td>&lt;=50K.</td><td>test</td></tr>\n",
       "\t<tr><th scope=row>48824</th><td>40</td><td><span style=white-space:pre-wrap>Private         </span></td><td>202168</td><td>Prof-school </td><td>15</td><td>Married-civ-spouse</td><td><span style=white-space:pre-wrap>Prof-specialty   </span></td><td><span style=white-space:pre-wrap>Husband       </span></td><td><span style=white-space:pre-wrap>White             </span></td><td><span style=white-space:pre-wrap>Male  </span></td><td>15024</td><td><span style=white-space:pre-wrap>   0</span></td><td>55</td><td>United-States</td><td>&gt;50K. </td><td>test</td></tr>\n",
       "\t<tr><th scope=row>48825</th><td>51</td><td><span style=white-space:pre-wrap>Private         </span></td><td> 82720</td><td><span style=white-space:pre-wrap>HS-grad     </span></td><td> 9</td><td>Married-civ-spouse</td><td><span style=white-space:pre-wrap>Craft-repair     </span></td><td><span style=white-space:pre-wrap>Husband       </span></td><td><span style=white-space:pre-wrap>White             </span></td><td><span style=white-space:pre-wrap>Male  </span></td><td><span style=white-space:pre-wrap>    0</span></td><td><span style=white-space:pre-wrap>   0</span></td><td>40</td><td>United-States</td><td>&lt;=50K.</td><td>test</td></tr>\n",
       "\t<tr><th scope=row>48826</th><td>22</td><td><span style=white-space:pre-wrap>Private         </span></td><td>269623</td><td>Some-college</td><td>10</td><td><span style=white-space:pre-wrap>Never-married     </span></td><td><span style=white-space:pre-wrap>Craft-repair     </span></td><td><span style=white-space:pre-wrap>Own-child     </span></td><td><span style=white-space:pre-wrap>White             </span></td><td><span style=white-space:pre-wrap>Male  </span></td><td><span style=white-space:pre-wrap>    0</span></td><td><span style=white-space:pre-wrap>   0</span></td><td>40</td><td>United-States</td><td>&lt;=50K.</td><td>test</td></tr>\n",
       "\t<tr><th scope=row>48827</th><td>64</td><td>Self-emp-not-inc</td><td>136405</td><td><span style=white-space:pre-wrap>HS-grad     </span></td><td> 9</td><td><span style=white-space:pre-wrap>Widowed           </span></td><td><span style=white-space:pre-wrap>Farming-fishing  </span></td><td>Not-in-family </td><td><span style=white-space:pre-wrap>White             </span></td><td><span style=white-space:pre-wrap>Male  </span></td><td><span style=white-space:pre-wrap>    0</span></td><td><span style=white-space:pre-wrap>   0</span></td><td>32</td><td>United-States</td><td>&lt;=50K.</td><td>test</td></tr>\n",
       "\t<tr><th scope=row>48828</th><td>50</td><td><span style=white-space:pre-wrap>Local-gov       </span></td><td>139347</td><td><span style=white-space:pre-wrap>Masters     </span></td><td>14</td><td>Married-civ-spouse</td><td><span style=white-space:pre-wrap>Prof-specialty   </span></td><td><span style=white-space:pre-wrap>Wife          </span></td><td><span style=white-space:pre-wrap>White             </span></td><td>Female</td><td><span style=white-space:pre-wrap>    0</span></td><td><span style=white-space:pre-wrap>   0</span></td><td>40</td><td><span style=white-space:pre-wrap>?            </span></td><td>&gt;50K. </td><td>test</td></tr>\n",
       "\t<tr><th scope=row>48829</th><td>55</td><td><span style=white-space:pre-wrap>Private         </span></td><td>224655</td><td><span style=white-space:pre-wrap>HS-grad     </span></td><td> 9</td><td><span style=white-space:pre-wrap>Separated         </span></td><td><span style=white-space:pre-wrap>Priv-house-serv  </span></td><td>Not-in-family </td><td><span style=white-space:pre-wrap>White             </span></td><td>Female</td><td><span style=white-space:pre-wrap>    0</span></td><td><span style=white-space:pre-wrap>   0</span></td><td>32</td><td>United-States</td><td>&lt;=50K.</td><td>test</td></tr>\n",
       "\t<tr><th scope=row>48830</th><td>38</td><td><span style=white-space:pre-wrap>Private         </span></td><td>247547</td><td><span style=white-space:pre-wrap>Assoc-voc   </span></td><td>11</td><td><span style=white-space:pre-wrap>Never-married     </span></td><td><span style=white-space:pre-wrap>Adm-clerical     </span></td><td><span style=white-space:pre-wrap>Unmarried     </span></td><td><span style=white-space:pre-wrap>Black             </span></td><td>Female</td><td><span style=white-space:pre-wrap>    0</span></td><td><span style=white-space:pre-wrap>   0</span></td><td>40</td><td>United-States</td><td>&lt;=50K.</td><td>test</td></tr>\n",
       "\t<tr><th scope=row>48831</th><td>58</td><td><span style=white-space:pre-wrap>Private         </span></td><td>292710</td><td><span style=white-space:pre-wrap>Assoc-acdm  </span></td><td>12</td><td><span style=white-space:pre-wrap>Divorced          </span></td><td><span style=white-space:pre-wrap>Prof-specialty   </span></td><td>Not-in-family </td><td><span style=white-space:pre-wrap>White             </span></td><td><span style=white-space:pre-wrap>Male  </span></td><td><span style=white-space:pre-wrap>    0</span></td><td><span style=white-space:pre-wrap>   0</span></td><td>36</td><td>United-States</td><td>&lt;=50K.</td><td>test</td></tr>\n",
       "\t<tr><th scope=row>48832</th><td>32</td><td><span style=white-space:pre-wrap>Private         </span></td><td>173449</td><td><span style=white-space:pre-wrap>HS-grad     </span></td><td> 9</td><td>Married-civ-spouse</td><td>Handlers-cleaners</td><td><span style=white-space:pre-wrap>Husband       </span></td><td><span style=white-space:pre-wrap>White             </span></td><td><span style=white-space:pre-wrap>Male  </span></td><td><span style=white-space:pre-wrap>    0</span></td><td><span style=white-space:pre-wrap>   0</span></td><td>40</td><td>United-States</td><td>&lt;=50K.</td><td>test</td></tr>\n",
       "\t<tr><th scope=row>48833</th><td>48</td><td><span style=white-space:pre-wrap>Private         </span></td><td>285570</td><td><span style=white-space:pre-wrap>HS-grad     </span></td><td> 9</td><td>Married-civ-spouse</td><td><span style=white-space:pre-wrap>Adm-clerical     </span></td><td><span style=white-space:pre-wrap>Husband       </span></td><td><span style=white-space:pre-wrap>White             </span></td><td><span style=white-space:pre-wrap>Male  </span></td><td><span style=white-space:pre-wrap>    0</span></td><td><span style=white-space:pre-wrap>   0</span></td><td>40</td><td>United-States</td><td>&lt;=50K.</td><td>test</td></tr>\n",
       "\t<tr><th scope=row>48834</th><td>61</td><td><span style=white-space:pre-wrap>Private         </span></td><td> 89686</td><td><span style=white-space:pre-wrap>HS-grad     </span></td><td> 9</td><td>Married-civ-spouse</td><td><span style=white-space:pre-wrap>Sales            </span></td><td><span style=white-space:pre-wrap>Husband       </span></td><td><span style=white-space:pre-wrap>White             </span></td><td><span style=white-space:pre-wrap>Male  </span></td><td><span style=white-space:pre-wrap>    0</span></td><td><span style=white-space:pre-wrap>   0</span></td><td>48</td><td>United-States</td><td>&lt;=50K.</td><td>test</td></tr>\n",
       "\t<tr><th scope=row>48835</th><td>31</td><td><span style=white-space:pre-wrap>Private         </span></td><td>440129</td><td><span style=white-space:pre-wrap>HS-grad     </span></td><td> 9</td><td>Married-civ-spouse</td><td><span style=white-space:pre-wrap>Craft-repair     </span></td><td><span style=white-space:pre-wrap>Husband       </span></td><td><span style=white-space:pre-wrap>White             </span></td><td><span style=white-space:pre-wrap>Male  </span></td><td><span style=white-space:pre-wrap>    0</span></td><td><span style=white-space:pre-wrap>   0</span></td><td>40</td><td>United-States</td><td>&lt;=50K.</td><td>test</td></tr>\n",
       "\t<tr><th scope=row>48836</th><td>25</td><td><span style=white-space:pre-wrap>Private         </span></td><td>350977</td><td><span style=white-space:pre-wrap>HS-grad     </span></td><td> 9</td><td><span style=white-space:pre-wrap>Never-married     </span></td><td><span style=white-space:pre-wrap>Other-service    </span></td><td><span style=white-space:pre-wrap>Own-child     </span></td><td><span style=white-space:pre-wrap>White             </span></td><td>Female</td><td><span style=white-space:pre-wrap>    0</span></td><td><span style=white-space:pre-wrap>   0</span></td><td>40</td><td>United-States</td><td>&lt;=50K.</td><td>test</td></tr>\n",
       "\t<tr><th scope=row>48837</th><td>48</td><td><span style=white-space:pre-wrap>Local-gov       </span></td><td>349230</td><td><span style=white-space:pre-wrap>Masters     </span></td><td>14</td><td><span style=white-space:pre-wrap>Divorced          </span></td><td><span style=white-space:pre-wrap>Other-service    </span></td><td>Not-in-family </td><td><span style=white-space:pre-wrap>White             </span></td><td><span style=white-space:pre-wrap>Male  </span></td><td><span style=white-space:pre-wrap>    0</span></td><td><span style=white-space:pre-wrap>   0</span></td><td>40</td><td>United-States</td><td>&lt;=50K.</td><td>test</td></tr>\n",
       "\t<tr><th scope=row>48838</th><td>33</td><td><span style=white-space:pre-wrap>Private         </span></td><td>245211</td><td><span style=white-space:pre-wrap>Bachelors   </span></td><td>13</td><td><span style=white-space:pre-wrap>Never-married     </span></td><td><span style=white-space:pre-wrap>Prof-specialty   </span></td><td><span style=white-space:pre-wrap>Own-child     </span></td><td><span style=white-space:pre-wrap>White             </span></td><td><span style=white-space:pre-wrap>Male  </span></td><td><span style=white-space:pre-wrap>    0</span></td><td><span style=white-space:pre-wrap>   0</span></td><td>40</td><td>United-States</td><td>&lt;=50K.</td><td>test</td></tr>\n",
       "\t<tr><th scope=row>48839</th><td>39</td><td><span style=white-space:pre-wrap>Private         </span></td><td>215419</td><td><span style=white-space:pre-wrap>Bachelors   </span></td><td>13</td><td><span style=white-space:pre-wrap>Divorced          </span></td><td><span style=white-space:pre-wrap>Prof-specialty   </span></td><td>Not-in-family </td><td><span style=white-space:pre-wrap>White             </span></td><td>Female</td><td><span style=white-space:pre-wrap>    0</span></td><td><span style=white-space:pre-wrap>   0</span></td><td>36</td><td>United-States</td><td>&lt;=50K.</td><td>test</td></tr>\n",
       "\t<tr><th scope=row>48840</th><td>64</td><td><span style=white-space:pre-wrap>?               </span></td><td>321403</td><td><span style=white-space:pre-wrap>HS-grad     </span></td><td> 9</td><td><span style=white-space:pre-wrap>Widowed           </span></td><td><span style=white-space:pre-wrap>?                </span></td><td>Other-relative</td><td><span style=white-space:pre-wrap>Black             </span></td><td><span style=white-space:pre-wrap>Male  </span></td><td><span style=white-space:pre-wrap>    0</span></td><td><span style=white-space:pre-wrap>   0</span></td><td>40</td><td>United-States</td><td>&lt;=50K.</td><td>test</td></tr>\n",
       "\t<tr><th scope=row>48841</th><td>38</td><td><span style=white-space:pre-wrap>Private         </span></td><td>374983</td><td><span style=white-space:pre-wrap>Bachelors   </span></td><td>13</td><td>Married-civ-spouse</td><td><span style=white-space:pre-wrap>Prof-specialty   </span></td><td><span style=white-space:pre-wrap>Husband       </span></td><td><span style=white-space:pre-wrap>White             </span></td><td><span style=white-space:pre-wrap>Male  </span></td><td><span style=white-space:pre-wrap>    0</span></td><td><span style=white-space:pre-wrap>   0</span></td><td>50</td><td>United-States</td><td>&lt;=50K.</td><td>test</td></tr>\n",
       "\t<tr><th scope=row>48842</th><td>44</td><td><span style=white-space:pre-wrap>Private         </span></td><td> 83891</td><td><span style=white-space:pre-wrap>Bachelors   </span></td><td>13</td><td><span style=white-space:pre-wrap>Divorced          </span></td><td><span style=white-space:pre-wrap>Adm-clerical     </span></td><td><span style=white-space:pre-wrap>Own-child     </span></td><td>Asian-Pac-Islander</td><td><span style=white-space:pre-wrap>Male  </span></td><td> 5455</td><td><span style=white-space:pre-wrap>   0</span></td><td>40</td><td>United-States</td><td>&lt;=50K.</td><td>test</td></tr>\n",
       "\t<tr><th scope=row>48843</th><td>35</td><td><span style=white-space:pre-wrap>Self-emp-inc    </span></td><td>182148</td><td><span style=white-space:pre-wrap>Bachelors   </span></td><td>13</td><td>Married-civ-spouse</td><td><span style=white-space:pre-wrap>Exec-managerial  </span></td><td><span style=white-space:pre-wrap>Husband       </span></td><td><span style=white-space:pre-wrap>White             </span></td><td><span style=white-space:pre-wrap>Male  </span></td><td><span style=white-space:pre-wrap>    0</span></td><td><span style=white-space:pre-wrap>   0</span></td><td>60</td><td>United-States</td><td>&gt;50K. </td><td>test</td></tr>\n",
       "</tbody>\n",
       "</table>\n"
      ],
      "text/latex": [
       "A data.frame: 48842 × 16\n",
       "\\begin{tabular}{r|llllllllllllllll}\n",
       "  & age & workclass & fnlwgt & education & educational.num & marital.status & occupation & relationship & race & gender & capital.gain & capital.loss & hours.per.week & native.country & income & dataset\\\\\n",
       "  & <chr> & <chr> & <int> & <chr> & <int> & <chr> & <chr> & <chr> & <chr> & <chr> & <int> & <int> & <int> & <chr> & <chr> & <chr>\\\\\n",
       "\\hline\n",
       "\t1 & 39 & State-gov        &  77516 & Bachelors    & 13 & Never-married         & Adm-clerical      & Not-in-family & White              & Male   &  2174 &    0 & 40 & United-States & <=50K & train\\\\\n",
       "\t2 & 50 & Self-emp-not-inc &  83311 & Bachelors    & 13 & Married-civ-spouse    & Exec-managerial   & Husband       & White              & Male   &     0 &    0 & 13 & United-States & <=50K & train\\\\\n",
       "\t3 & 38 & Private          & 215646 & HS-grad      &  9 & Divorced              & Handlers-cleaners & Not-in-family & White              & Male   &     0 &    0 & 40 & United-States & <=50K & train\\\\\n",
       "\t4 & 53 & Private          & 234721 & 11th         &  7 & Married-civ-spouse    & Handlers-cleaners & Husband       & Black              & Male   &     0 &    0 & 40 & United-States & <=50K & train\\\\\n",
       "\t5 & 28 & Private          & 338409 & Bachelors    & 13 & Married-civ-spouse    & Prof-specialty    & Wife          & Black              & Female &     0 &    0 & 40 & Cuba          & <=50K & train\\\\\n",
       "\t6 & 37 & Private          & 284582 & Masters      & 14 & Married-civ-spouse    & Exec-managerial   & Wife          & White              & Female &     0 &    0 & 40 & United-States & <=50K & train\\\\\n",
       "\t7 & 49 & Private          & 160187 & 9th          &  5 & Married-spouse-absent & Other-service     & Not-in-family & Black              & Female &     0 &    0 & 16 & Jamaica       & <=50K & train\\\\\n",
       "\t8 & 52 & Self-emp-not-inc & 209642 & HS-grad      &  9 & Married-civ-spouse    & Exec-managerial   & Husband       & White              & Male   &     0 &    0 & 45 & United-States & >50K  & train\\\\\n",
       "\t9 & 31 & Private          &  45781 & Masters      & 14 & Never-married         & Prof-specialty    & Not-in-family & White              & Female & 14084 &    0 & 50 & United-States & >50K  & train\\\\\n",
       "\t10 & 42 & Private          & 159449 & Bachelors    & 13 & Married-civ-spouse    & Exec-managerial   & Husband       & White              & Male   &  5178 &    0 & 40 & United-States & >50K  & train\\\\\n",
       "\t11 & 37 & Private          & 280464 & Some-college & 10 & Married-civ-spouse    & Exec-managerial   & Husband       & Black              & Male   &     0 &    0 & 80 & United-States & >50K  & train\\\\\n",
       "\t12 & 30 & State-gov        & 141297 & Bachelors    & 13 & Married-civ-spouse    & Prof-specialty    & Husband       & Asian-Pac-Islander & Male   &     0 &    0 & 40 & India         & >50K  & train\\\\\n",
       "\t13 & 23 & Private          & 122272 & Bachelors    & 13 & Never-married         & Adm-clerical      & Own-child     & White              & Female &     0 &    0 & 30 & United-States & <=50K & train\\\\\n",
       "\t14 & 32 & Private          & 205019 & Assoc-acdm   & 12 & Never-married         & Sales             & Not-in-family & Black              & Male   &     0 &    0 & 50 & United-States & <=50K & train\\\\\n",
       "\t15 & 40 & Private          & 121772 & Assoc-voc    & 11 & Married-civ-spouse    & Craft-repair      & Husband       & Asian-Pac-Islander & Male   &     0 &    0 & 40 & ?             & >50K  & train\\\\\n",
       "\t16 & 34 & Private          & 245487 & 7th-8th      &  4 & Married-civ-spouse    & Transport-moving  & Husband       & Amer-Indian-Eskimo & Male   &     0 &    0 & 45 & Mexico        & <=50K & train\\\\\n",
       "\t17 & 25 & Self-emp-not-inc & 176756 & HS-grad      &  9 & Never-married         & Farming-fishing   & Own-child     & White              & Male   &     0 &    0 & 35 & United-States & <=50K & train\\\\\n",
       "\t18 & 32 & Private          & 186824 & HS-grad      &  9 & Never-married         & Machine-op-inspct & Unmarried     & White              & Male   &     0 &    0 & 40 & United-States & <=50K & train\\\\\n",
       "\t19 & 38 & Private          &  28887 & 11th         &  7 & Married-civ-spouse    & Sales             & Husband       & White              & Male   &     0 &    0 & 50 & United-States & <=50K & train\\\\\n",
       "\t20 & 43 & Self-emp-not-inc & 292175 & Masters      & 14 & Divorced              & Exec-managerial   & Unmarried     & White              & Female &     0 &    0 & 45 & United-States & >50K  & train\\\\\n",
       "\t21 & 40 & Private          & 193524 & Doctorate    & 16 & Married-civ-spouse    & Prof-specialty    & Husband       & White              & Male   &     0 &    0 & 60 & United-States & >50K  & train\\\\\n",
       "\t22 & 54 & Private          & 302146 & HS-grad      &  9 & Separated             & Other-service     & Unmarried     & Black              & Female &     0 &    0 & 20 & United-States & <=50K & train\\\\\n",
       "\t23 & 35 & Federal-gov      &  76845 & 9th          &  5 & Married-civ-spouse    & Farming-fishing   & Husband       & Black              & Male   &     0 &    0 & 40 & United-States & <=50K & train\\\\\n",
       "\t24 & 43 & Private          & 117037 & 11th         &  7 & Married-civ-spouse    & Transport-moving  & Husband       & White              & Male   &     0 & 2042 & 40 & United-States & <=50K & train\\\\\n",
       "\t25 & 59 & Private          & 109015 & HS-grad      &  9 & Divorced              & Tech-support      & Unmarried     & White              & Female &     0 &    0 & 40 & United-States & <=50K & train\\\\\n",
       "\t26 & 56 & Local-gov        & 216851 & Bachelors    & 13 & Married-civ-spouse    & Tech-support      & Husband       & White              & Male   &     0 &    0 & 40 & United-States & >50K  & train\\\\\n",
       "\t27 & 19 & Private          & 168294 & HS-grad      &  9 & Never-married         & Craft-repair      & Own-child     & White              & Male   &     0 &    0 & 40 & United-States & <=50K & train\\\\\n",
       "\t28 & 54 & ?                & 180211 & Some-college & 10 & Married-civ-spouse    & ?                 & Husband       & Asian-Pac-Islander & Male   &     0 &    0 & 60 & South         & >50K  & train\\\\\n",
       "\t29 & 39 & Private          & 367260 & HS-grad      &  9 & Divorced              & Exec-managerial   & Not-in-family & White              & Male   &     0 &    0 & 80 & United-States & <=50K & train\\\\\n",
       "\t30 & 49 & Private          & 193366 & HS-grad      &  9 & Married-civ-spouse    & Craft-repair      & Husband       & White              & Male   &     0 &    0 & 40 & United-States & <=50K & train\\\\\n",
       "\t⋮ & ⋮ & ⋮ & ⋮ & ⋮ & ⋮ & ⋮ & ⋮ & ⋮ & ⋮ & ⋮ & ⋮ & ⋮ & ⋮ & ⋮ & ⋮ & ⋮\\\\\n",
       "\t48814 & 81 & ?                &  26711 & Assoc-voc    & 11 & Married-civ-spouse & ?                 & Husband        & White              & Male   &  2936 &    0 & 20 & United-States & <=50K. & test\\\\\n",
       "\t48815 & 60 & Private          & 117909 & Assoc-voc    & 11 & Married-civ-spouse & Prof-specialty    & Husband        & White              & Male   &  7688 &    0 & 40 & United-States & >50K.  & test\\\\\n",
       "\t48816 & 39 & Private          & 229647 & Bachelors    & 13 & Never-married      & Tech-support      & Not-in-family  & White              & Female &     0 & 1669 & 40 & United-States & <=50K. & test\\\\\n",
       "\t48817 & 38 & Private          & 149347 & Masters      & 14 & Married-civ-spouse & Prof-specialty    & Husband        & White              & Male   &     0 &    0 & 50 & United-States & >50K.  & test\\\\\n",
       "\t48818 & 43 & Local-gov        &  23157 & Masters      & 14 & Married-civ-spouse & Exec-managerial   & Husband        & White              & Male   &     0 & 1902 & 50 & United-States & >50K.  & test\\\\\n",
       "\t48819 & 23 & Private          &  93977 & HS-grad      &  9 & Never-married      & Machine-op-inspct & Own-child      & White              & Male   &     0 &    0 & 40 & United-States & <=50K. & test\\\\\n",
       "\t48820 & 73 & Self-emp-inc     & 159691 & Some-college & 10 & Divorced           & Exec-managerial   & Not-in-family  & White              & Female &     0 &    0 & 40 & United-States & <=50K. & test\\\\\n",
       "\t48821 & 35 & Private          & 176967 & Some-college & 10 & Married-civ-spouse & Protective-serv   & Husband        & White              & Male   &     0 &    0 & 40 & United-States & <=50K. & test\\\\\n",
       "\t48822 & 66 & Private          & 344436 & HS-grad      &  9 & Widowed            & Sales             & Other-relative & White              & Female &     0 &    0 &  8 & United-States & <=50K. & test\\\\\n",
       "\t48823 & 27 & Private          & 430340 & Some-college & 10 & Never-married      & Sales             & Not-in-family  & White              & Female &     0 &    0 & 45 & United-States & <=50K. & test\\\\\n",
       "\t48824 & 40 & Private          & 202168 & Prof-school  & 15 & Married-civ-spouse & Prof-specialty    & Husband        & White              & Male   & 15024 &    0 & 55 & United-States & >50K.  & test\\\\\n",
       "\t48825 & 51 & Private          &  82720 & HS-grad      &  9 & Married-civ-spouse & Craft-repair      & Husband        & White              & Male   &     0 &    0 & 40 & United-States & <=50K. & test\\\\\n",
       "\t48826 & 22 & Private          & 269623 & Some-college & 10 & Never-married      & Craft-repair      & Own-child      & White              & Male   &     0 &    0 & 40 & United-States & <=50K. & test\\\\\n",
       "\t48827 & 64 & Self-emp-not-inc & 136405 & HS-grad      &  9 & Widowed            & Farming-fishing   & Not-in-family  & White              & Male   &     0 &    0 & 32 & United-States & <=50K. & test\\\\\n",
       "\t48828 & 50 & Local-gov        & 139347 & Masters      & 14 & Married-civ-spouse & Prof-specialty    & Wife           & White              & Female &     0 &    0 & 40 & ?             & >50K.  & test\\\\\n",
       "\t48829 & 55 & Private          & 224655 & HS-grad      &  9 & Separated          & Priv-house-serv   & Not-in-family  & White              & Female &     0 &    0 & 32 & United-States & <=50K. & test\\\\\n",
       "\t48830 & 38 & Private          & 247547 & Assoc-voc    & 11 & Never-married      & Adm-clerical      & Unmarried      & Black              & Female &     0 &    0 & 40 & United-States & <=50K. & test\\\\\n",
       "\t48831 & 58 & Private          & 292710 & Assoc-acdm   & 12 & Divorced           & Prof-specialty    & Not-in-family  & White              & Male   &     0 &    0 & 36 & United-States & <=50K. & test\\\\\n",
       "\t48832 & 32 & Private          & 173449 & HS-grad      &  9 & Married-civ-spouse & Handlers-cleaners & Husband        & White              & Male   &     0 &    0 & 40 & United-States & <=50K. & test\\\\\n",
       "\t48833 & 48 & Private          & 285570 & HS-grad      &  9 & Married-civ-spouse & Adm-clerical      & Husband        & White              & Male   &     0 &    0 & 40 & United-States & <=50K. & test\\\\\n",
       "\t48834 & 61 & Private          &  89686 & HS-grad      &  9 & Married-civ-spouse & Sales             & Husband        & White              & Male   &     0 &    0 & 48 & United-States & <=50K. & test\\\\\n",
       "\t48835 & 31 & Private          & 440129 & HS-grad      &  9 & Married-civ-spouse & Craft-repair      & Husband        & White              & Male   &     0 &    0 & 40 & United-States & <=50K. & test\\\\\n",
       "\t48836 & 25 & Private          & 350977 & HS-grad      &  9 & Never-married      & Other-service     & Own-child      & White              & Female &     0 &    0 & 40 & United-States & <=50K. & test\\\\\n",
       "\t48837 & 48 & Local-gov        & 349230 & Masters      & 14 & Divorced           & Other-service     & Not-in-family  & White              & Male   &     0 &    0 & 40 & United-States & <=50K. & test\\\\\n",
       "\t48838 & 33 & Private          & 245211 & Bachelors    & 13 & Never-married      & Prof-specialty    & Own-child      & White              & Male   &     0 &    0 & 40 & United-States & <=50K. & test\\\\\n",
       "\t48839 & 39 & Private          & 215419 & Bachelors    & 13 & Divorced           & Prof-specialty    & Not-in-family  & White              & Female &     0 &    0 & 36 & United-States & <=50K. & test\\\\\n",
       "\t48840 & 64 & ?                & 321403 & HS-grad      &  9 & Widowed            & ?                 & Other-relative & Black              & Male   &     0 &    0 & 40 & United-States & <=50K. & test\\\\\n",
       "\t48841 & 38 & Private          & 374983 & Bachelors    & 13 & Married-civ-spouse & Prof-specialty    & Husband        & White              & Male   &     0 &    0 & 50 & United-States & <=50K. & test\\\\\n",
       "\t48842 & 44 & Private          &  83891 & Bachelors    & 13 & Divorced           & Adm-clerical      & Own-child      & Asian-Pac-Islander & Male   &  5455 &    0 & 40 & United-States & <=50K. & test\\\\\n",
       "\t48843 & 35 & Self-emp-inc     & 182148 & Bachelors    & 13 & Married-civ-spouse & Exec-managerial   & Husband        & White              & Male   &     0 &    0 & 60 & United-States & >50K.  & test\\\\\n",
       "\\end{tabular}\n"
      ],
      "text/markdown": [
       "\n",
       "A data.frame: 48842 × 16\n",
       "\n",
       "| <!--/--> | age &lt;chr&gt; | workclass &lt;chr&gt; | fnlwgt &lt;int&gt; | education &lt;chr&gt; | educational.num &lt;int&gt; | marital.status &lt;chr&gt; | occupation &lt;chr&gt; | relationship &lt;chr&gt; | race &lt;chr&gt; | gender &lt;chr&gt; | capital.gain &lt;int&gt; | capital.loss &lt;int&gt; | hours.per.week &lt;int&gt; | native.country &lt;chr&gt; | income &lt;chr&gt; | dataset &lt;chr&gt; |\n",
       "|---|---|---|---|---|---|---|---|---|---|---|---|---|---|---|---|---|\n",
       "| 1 | 39 | State-gov        |  77516 | Bachelors    | 13 | Never-married         | Adm-clerical      | Not-in-family | White              | Male   |  2174 |    0 | 40 | United-States | &lt;=50K | train |\n",
       "| 2 | 50 | Self-emp-not-inc |  83311 | Bachelors    | 13 | Married-civ-spouse    | Exec-managerial   | Husband       | White              | Male   |     0 |    0 | 13 | United-States | &lt;=50K | train |\n",
       "| 3 | 38 | Private          | 215646 | HS-grad      |  9 | Divorced              | Handlers-cleaners | Not-in-family | White              | Male   |     0 |    0 | 40 | United-States | &lt;=50K | train |\n",
       "| 4 | 53 | Private          | 234721 | 11th         |  7 | Married-civ-spouse    | Handlers-cleaners | Husband       | Black              | Male   |     0 |    0 | 40 | United-States | &lt;=50K | train |\n",
       "| 5 | 28 | Private          | 338409 | Bachelors    | 13 | Married-civ-spouse    | Prof-specialty    | Wife          | Black              | Female |     0 |    0 | 40 | Cuba          | &lt;=50K | train |\n",
       "| 6 | 37 | Private          | 284582 | Masters      | 14 | Married-civ-spouse    | Exec-managerial   | Wife          | White              | Female |     0 |    0 | 40 | United-States | &lt;=50K | train |\n",
       "| 7 | 49 | Private          | 160187 | 9th          |  5 | Married-spouse-absent | Other-service     | Not-in-family | Black              | Female |     0 |    0 | 16 | Jamaica       | &lt;=50K | train |\n",
       "| 8 | 52 | Self-emp-not-inc | 209642 | HS-grad      |  9 | Married-civ-spouse    | Exec-managerial   | Husband       | White              | Male   |     0 |    0 | 45 | United-States | &gt;50K  | train |\n",
       "| 9 | 31 | Private          |  45781 | Masters      | 14 | Never-married         | Prof-specialty    | Not-in-family | White              | Female | 14084 |    0 | 50 | United-States | &gt;50K  | train |\n",
       "| 10 | 42 | Private          | 159449 | Bachelors    | 13 | Married-civ-spouse    | Exec-managerial   | Husband       | White              | Male   |  5178 |    0 | 40 | United-States | &gt;50K  | train |\n",
       "| 11 | 37 | Private          | 280464 | Some-college | 10 | Married-civ-spouse    | Exec-managerial   | Husband       | Black              | Male   |     0 |    0 | 80 | United-States | &gt;50K  | train |\n",
       "| 12 | 30 | State-gov        | 141297 | Bachelors    | 13 | Married-civ-spouse    | Prof-specialty    | Husband       | Asian-Pac-Islander | Male   |     0 |    0 | 40 | India         | &gt;50K  | train |\n",
       "| 13 | 23 | Private          | 122272 | Bachelors    | 13 | Never-married         | Adm-clerical      | Own-child     | White              | Female |     0 |    0 | 30 | United-States | &lt;=50K | train |\n",
       "| 14 | 32 | Private          | 205019 | Assoc-acdm   | 12 | Never-married         | Sales             | Not-in-family | Black              | Male   |     0 |    0 | 50 | United-States | &lt;=50K | train |\n",
       "| 15 | 40 | Private          | 121772 | Assoc-voc    | 11 | Married-civ-spouse    | Craft-repair      | Husband       | Asian-Pac-Islander | Male   |     0 |    0 | 40 | ?             | &gt;50K  | train |\n",
       "| 16 | 34 | Private          | 245487 | 7th-8th      |  4 | Married-civ-spouse    | Transport-moving  | Husband       | Amer-Indian-Eskimo | Male   |     0 |    0 | 45 | Mexico        | &lt;=50K | train |\n",
       "| 17 | 25 | Self-emp-not-inc | 176756 | HS-grad      |  9 | Never-married         | Farming-fishing   | Own-child     | White              | Male   |     0 |    0 | 35 | United-States | &lt;=50K | train |\n",
       "| 18 | 32 | Private          | 186824 | HS-grad      |  9 | Never-married         | Machine-op-inspct | Unmarried     | White              | Male   |     0 |    0 | 40 | United-States | &lt;=50K | train |\n",
       "| 19 | 38 | Private          |  28887 | 11th         |  7 | Married-civ-spouse    | Sales             | Husband       | White              | Male   |     0 |    0 | 50 | United-States | &lt;=50K | train |\n",
       "| 20 | 43 | Self-emp-not-inc | 292175 | Masters      | 14 | Divorced              | Exec-managerial   | Unmarried     | White              | Female |     0 |    0 | 45 | United-States | &gt;50K  | train |\n",
       "| 21 | 40 | Private          | 193524 | Doctorate    | 16 | Married-civ-spouse    | Prof-specialty    | Husband       | White              | Male   |     0 |    0 | 60 | United-States | &gt;50K  | train |\n",
       "| 22 | 54 | Private          | 302146 | HS-grad      |  9 | Separated             | Other-service     | Unmarried     | Black              | Female |     0 |    0 | 20 | United-States | &lt;=50K | train |\n",
       "| 23 | 35 | Federal-gov      |  76845 | 9th          |  5 | Married-civ-spouse    | Farming-fishing   | Husband       | Black              | Male   |     0 |    0 | 40 | United-States | &lt;=50K | train |\n",
       "| 24 | 43 | Private          | 117037 | 11th         |  7 | Married-civ-spouse    | Transport-moving  | Husband       | White              | Male   |     0 | 2042 | 40 | United-States | &lt;=50K | train |\n",
       "| 25 | 59 | Private          | 109015 | HS-grad      |  9 | Divorced              | Tech-support      | Unmarried     | White              | Female |     0 |    0 | 40 | United-States | &lt;=50K | train |\n",
       "| 26 | 56 | Local-gov        | 216851 | Bachelors    | 13 | Married-civ-spouse    | Tech-support      | Husband       | White              | Male   |     0 |    0 | 40 | United-States | &gt;50K  | train |\n",
       "| 27 | 19 | Private          | 168294 | HS-grad      |  9 | Never-married         | Craft-repair      | Own-child     | White              | Male   |     0 |    0 | 40 | United-States | &lt;=50K | train |\n",
       "| 28 | 54 | ?                | 180211 | Some-college | 10 | Married-civ-spouse    | ?                 | Husband       | Asian-Pac-Islander | Male   |     0 |    0 | 60 | South         | &gt;50K  | train |\n",
       "| 29 | 39 | Private          | 367260 | HS-grad      |  9 | Divorced              | Exec-managerial   | Not-in-family | White              | Male   |     0 |    0 | 80 | United-States | &lt;=50K | train |\n",
       "| 30 | 49 | Private          | 193366 | HS-grad      |  9 | Married-civ-spouse    | Craft-repair      | Husband       | White              | Male   |     0 |    0 | 40 | United-States | &lt;=50K | train |\n",
       "| ⋮ | ⋮ | ⋮ | ⋮ | ⋮ | ⋮ | ⋮ | ⋮ | ⋮ | ⋮ | ⋮ | ⋮ | ⋮ | ⋮ | ⋮ | ⋮ | ⋮ |\n",
       "| 48814 | 81 | ?                |  26711 | Assoc-voc    | 11 | Married-civ-spouse | ?                 | Husband        | White              | Male   |  2936 |    0 | 20 | United-States | &lt;=50K. | test |\n",
       "| 48815 | 60 | Private          | 117909 | Assoc-voc    | 11 | Married-civ-spouse | Prof-specialty    | Husband        | White              | Male   |  7688 |    0 | 40 | United-States | &gt;50K.  | test |\n",
       "| 48816 | 39 | Private          | 229647 | Bachelors    | 13 | Never-married      | Tech-support      | Not-in-family  | White              | Female |     0 | 1669 | 40 | United-States | &lt;=50K. | test |\n",
       "| 48817 | 38 | Private          | 149347 | Masters      | 14 | Married-civ-spouse | Prof-specialty    | Husband        | White              | Male   |     0 |    0 | 50 | United-States | &gt;50K.  | test |\n",
       "| 48818 | 43 | Local-gov        |  23157 | Masters      | 14 | Married-civ-spouse | Exec-managerial   | Husband        | White              | Male   |     0 | 1902 | 50 | United-States | &gt;50K.  | test |\n",
       "| 48819 | 23 | Private          |  93977 | HS-grad      |  9 | Never-married      | Machine-op-inspct | Own-child      | White              | Male   |     0 |    0 | 40 | United-States | &lt;=50K. | test |\n",
       "| 48820 | 73 | Self-emp-inc     | 159691 | Some-college | 10 | Divorced           | Exec-managerial   | Not-in-family  | White              | Female |     0 |    0 | 40 | United-States | &lt;=50K. | test |\n",
       "| 48821 | 35 | Private          | 176967 | Some-college | 10 | Married-civ-spouse | Protective-serv   | Husband        | White              | Male   |     0 |    0 | 40 | United-States | &lt;=50K. | test |\n",
       "| 48822 | 66 | Private          | 344436 | HS-grad      |  9 | Widowed            | Sales             | Other-relative | White              | Female |     0 |    0 |  8 | United-States | &lt;=50K. | test |\n",
       "| 48823 | 27 | Private          | 430340 | Some-college | 10 | Never-married      | Sales             | Not-in-family  | White              | Female |     0 |    0 | 45 | United-States | &lt;=50K. | test |\n",
       "| 48824 | 40 | Private          | 202168 | Prof-school  | 15 | Married-civ-spouse | Prof-specialty    | Husband        | White              | Male   | 15024 |    0 | 55 | United-States | &gt;50K.  | test |\n",
       "| 48825 | 51 | Private          |  82720 | HS-grad      |  9 | Married-civ-spouse | Craft-repair      | Husband        | White              | Male   |     0 |    0 | 40 | United-States | &lt;=50K. | test |\n",
       "| 48826 | 22 | Private          | 269623 | Some-college | 10 | Never-married      | Craft-repair      | Own-child      | White              | Male   |     0 |    0 | 40 | United-States | &lt;=50K. | test |\n",
       "| 48827 | 64 | Self-emp-not-inc | 136405 | HS-grad      |  9 | Widowed            | Farming-fishing   | Not-in-family  | White              | Male   |     0 |    0 | 32 | United-States | &lt;=50K. | test |\n",
       "| 48828 | 50 | Local-gov        | 139347 | Masters      | 14 | Married-civ-spouse | Prof-specialty    | Wife           | White              | Female |     0 |    0 | 40 | ?             | &gt;50K.  | test |\n",
       "| 48829 | 55 | Private          | 224655 | HS-grad      |  9 | Separated          | Priv-house-serv   | Not-in-family  | White              | Female |     0 |    0 | 32 | United-States | &lt;=50K. | test |\n",
       "| 48830 | 38 | Private          | 247547 | Assoc-voc    | 11 | Never-married      | Adm-clerical      | Unmarried      | Black              | Female |     0 |    0 | 40 | United-States | &lt;=50K. | test |\n",
       "| 48831 | 58 | Private          | 292710 | Assoc-acdm   | 12 | Divorced           | Prof-specialty    | Not-in-family  | White              | Male   |     0 |    0 | 36 | United-States | &lt;=50K. | test |\n",
       "| 48832 | 32 | Private          | 173449 | HS-grad      |  9 | Married-civ-spouse | Handlers-cleaners | Husband        | White              | Male   |     0 |    0 | 40 | United-States | &lt;=50K. | test |\n",
       "| 48833 | 48 | Private          | 285570 | HS-grad      |  9 | Married-civ-spouse | Adm-clerical      | Husband        | White              | Male   |     0 |    0 | 40 | United-States | &lt;=50K. | test |\n",
       "| 48834 | 61 | Private          |  89686 | HS-grad      |  9 | Married-civ-spouse | Sales             | Husband        | White              | Male   |     0 |    0 | 48 | United-States | &lt;=50K. | test |\n",
       "| 48835 | 31 | Private          | 440129 | HS-grad      |  9 | Married-civ-spouse | Craft-repair      | Husband        | White              | Male   |     0 |    0 | 40 | United-States | &lt;=50K. | test |\n",
       "| 48836 | 25 | Private          | 350977 | HS-grad      |  9 | Never-married      | Other-service     | Own-child      | White              | Female |     0 |    0 | 40 | United-States | &lt;=50K. | test |\n",
       "| 48837 | 48 | Local-gov        | 349230 | Masters      | 14 | Divorced           | Other-service     | Not-in-family  | White              | Male   |     0 |    0 | 40 | United-States | &lt;=50K. | test |\n",
       "| 48838 | 33 | Private          | 245211 | Bachelors    | 13 | Never-married      | Prof-specialty    | Own-child      | White              | Male   |     0 |    0 | 40 | United-States | &lt;=50K. | test |\n",
       "| 48839 | 39 | Private          | 215419 | Bachelors    | 13 | Divorced           | Prof-specialty    | Not-in-family  | White              | Female |     0 |    0 | 36 | United-States | &lt;=50K. | test |\n",
       "| 48840 | 64 | ?                | 321403 | HS-grad      |  9 | Widowed            | ?                 | Other-relative | Black              | Male   |     0 |    0 | 40 | United-States | &lt;=50K. | test |\n",
       "| 48841 | 38 | Private          | 374983 | Bachelors    | 13 | Married-civ-spouse | Prof-specialty    | Husband        | White              | Male   |     0 |    0 | 50 | United-States | &lt;=50K. | test |\n",
       "| 48842 | 44 | Private          |  83891 | Bachelors    | 13 | Divorced           | Adm-clerical      | Own-child      | Asian-Pac-Islander | Male   |  5455 |    0 | 40 | United-States | &lt;=50K. | test |\n",
       "| 48843 | 35 | Self-emp-inc     | 182148 | Bachelors    | 13 | Married-civ-spouse | Exec-managerial   | Husband        | White              | Male   |     0 |    0 | 60 | United-States | &gt;50K.  | test |\n",
       "\n"
      ],
      "text/plain": [
       "      age workclass        fnlwgt education    educational.num\n",
       "1     39  State-gov         77516 Bachelors    13             \n",
       "2     50  Self-emp-not-inc  83311 Bachelors    13             \n",
       "3     38  Private          215646 HS-grad       9             \n",
       "4     53  Private          234721 11th          7             \n",
       "5     28  Private          338409 Bachelors    13             \n",
       "6     37  Private          284582 Masters      14             \n",
       "7     49  Private          160187 9th           5             \n",
       "8     52  Self-emp-not-inc 209642 HS-grad       9             \n",
       "9     31  Private           45781 Masters      14             \n",
       "10    42  Private          159449 Bachelors    13             \n",
       "11    37  Private          280464 Some-college 10             \n",
       "12    30  State-gov        141297 Bachelors    13             \n",
       "13    23  Private          122272 Bachelors    13             \n",
       "14    32  Private          205019 Assoc-acdm   12             \n",
       "15    40  Private          121772 Assoc-voc    11             \n",
       "16    34  Private          245487 7th-8th       4             \n",
       "17    25  Self-emp-not-inc 176756 HS-grad       9             \n",
       "18    32  Private          186824 HS-grad       9             \n",
       "19    38  Private           28887 11th          7             \n",
       "20    43  Self-emp-not-inc 292175 Masters      14             \n",
       "21    40  Private          193524 Doctorate    16             \n",
       "22    54  Private          302146 HS-grad       9             \n",
       "23    35  Federal-gov       76845 9th           5             \n",
       "24    43  Private          117037 11th          7             \n",
       "25    59  Private          109015 HS-grad       9             \n",
       "26    56  Local-gov        216851 Bachelors    13             \n",
       "27    19  Private          168294 HS-grad       9             \n",
       "28    54  ?                180211 Some-college 10             \n",
       "29    39  Private          367260 HS-grad       9             \n",
       "30    49  Private          193366 HS-grad       9             \n",
       "⋮     ⋮   ⋮                ⋮      ⋮            ⋮              \n",
       "48814 81  ?                 26711 Assoc-voc    11             \n",
       "48815 60  Private          117909 Assoc-voc    11             \n",
       "48816 39  Private          229647 Bachelors    13             \n",
       "48817 38  Private          149347 Masters      14             \n",
       "48818 43  Local-gov         23157 Masters      14             \n",
       "48819 23  Private           93977 HS-grad       9             \n",
       "48820 73  Self-emp-inc     159691 Some-college 10             \n",
       "48821 35  Private          176967 Some-college 10             \n",
       "48822 66  Private          344436 HS-grad       9             \n",
       "48823 27  Private          430340 Some-college 10             \n",
       "48824 40  Private          202168 Prof-school  15             \n",
       "48825 51  Private           82720 HS-grad       9             \n",
       "48826 22  Private          269623 Some-college 10             \n",
       "48827 64  Self-emp-not-inc 136405 HS-grad       9             \n",
       "48828 50  Local-gov        139347 Masters      14             \n",
       "48829 55  Private          224655 HS-grad       9             \n",
       "48830 38  Private          247547 Assoc-voc    11             \n",
       "48831 58  Private          292710 Assoc-acdm   12             \n",
       "48832 32  Private          173449 HS-grad       9             \n",
       "48833 48  Private          285570 HS-grad       9             \n",
       "48834 61  Private           89686 HS-grad       9             \n",
       "48835 31  Private          440129 HS-grad       9             \n",
       "48836 25  Private          350977 HS-grad       9             \n",
       "48837 48  Local-gov        349230 Masters      14             \n",
       "48838 33  Private          245211 Bachelors    13             \n",
       "48839 39  Private          215419 Bachelors    13             \n",
       "48840 64  ?                321403 HS-grad       9             \n",
       "48841 38  Private          374983 Bachelors    13             \n",
       "48842 44  Private           83891 Bachelors    13             \n",
       "48843 35  Self-emp-inc     182148 Bachelors    13             \n",
       "      marital.status        occupation        relationship   race              \n",
       "1     Never-married         Adm-clerical      Not-in-family  White             \n",
       "2     Married-civ-spouse    Exec-managerial   Husband        White             \n",
       "3     Divorced              Handlers-cleaners Not-in-family  White             \n",
       "4     Married-civ-spouse    Handlers-cleaners Husband        Black             \n",
       "5     Married-civ-spouse    Prof-specialty    Wife           Black             \n",
       "6     Married-civ-spouse    Exec-managerial   Wife           White             \n",
       "7     Married-spouse-absent Other-service     Not-in-family  Black             \n",
       "8     Married-civ-spouse    Exec-managerial   Husband        White             \n",
       "9     Never-married         Prof-specialty    Not-in-family  White             \n",
       "10    Married-civ-spouse    Exec-managerial   Husband        White             \n",
       "11    Married-civ-spouse    Exec-managerial   Husband        Black             \n",
       "12    Married-civ-spouse    Prof-specialty    Husband        Asian-Pac-Islander\n",
       "13    Never-married         Adm-clerical      Own-child      White             \n",
       "14    Never-married         Sales             Not-in-family  Black             \n",
       "15    Married-civ-spouse    Craft-repair      Husband        Asian-Pac-Islander\n",
       "16    Married-civ-spouse    Transport-moving  Husband        Amer-Indian-Eskimo\n",
       "17    Never-married         Farming-fishing   Own-child      White             \n",
       "18    Never-married         Machine-op-inspct Unmarried      White             \n",
       "19    Married-civ-spouse    Sales             Husband        White             \n",
       "20    Divorced              Exec-managerial   Unmarried      White             \n",
       "21    Married-civ-spouse    Prof-specialty    Husband        White             \n",
       "22    Separated             Other-service     Unmarried      Black             \n",
       "23    Married-civ-spouse    Farming-fishing   Husband        Black             \n",
       "24    Married-civ-spouse    Transport-moving  Husband        White             \n",
       "25    Divorced              Tech-support      Unmarried      White             \n",
       "26    Married-civ-spouse    Tech-support      Husband        White             \n",
       "27    Never-married         Craft-repair      Own-child      White             \n",
       "28    Married-civ-spouse    ?                 Husband        Asian-Pac-Islander\n",
       "29    Divorced              Exec-managerial   Not-in-family  White             \n",
       "30    Married-civ-spouse    Craft-repair      Husband        White             \n",
       "⋮     ⋮                     ⋮                 ⋮              ⋮                 \n",
       "48814 Married-civ-spouse    ?                 Husband        White             \n",
       "48815 Married-civ-spouse    Prof-specialty    Husband        White             \n",
       "48816 Never-married         Tech-support      Not-in-family  White             \n",
       "48817 Married-civ-spouse    Prof-specialty    Husband        White             \n",
       "48818 Married-civ-spouse    Exec-managerial   Husband        White             \n",
       "48819 Never-married         Machine-op-inspct Own-child      White             \n",
       "48820 Divorced              Exec-managerial   Not-in-family  White             \n",
       "48821 Married-civ-spouse    Protective-serv   Husband        White             \n",
       "48822 Widowed               Sales             Other-relative White             \n",
       "48823 Never-married         Sales             Not-in-family  White             \n",
       "48824 Married-civ-spouse    Prof-specialty    Husband        White             \n",
       "48825 Married-civ-spouse    Craft-repair      Husband        White             \n",
       "48826 Never-married         Craft-repair      Own-child      White             \n",
       "48827 Widowed               Farming-fishing   Not-in-family  White             \n",
       "48828 Married-civ-spouse    Prof-specialty    Wife           White             \n",
       "48829 Separated             Priv-house-serv   Not-in-family  White             \n",
       "48830 Never-married         Adm-clerical      Unmarried      Black             \n",
       "48831 Divorced              Prof-specialty    Not-in-family  White             \n",
       "48832 Married-civ-spouse    Handlers-cleaners Husband        White             \n",
       "48833 Married-civ-spouse    Adm-clerical      Husband        White             \n",
       "48834 Married-civ-spouse    Sales             Husband        White             \n",
       "48835 Married-civ-spouse    Craft-repair      Husband        White             \n",
       "48836 Never-married         Other-service     Own-child      White             \n",
       "48837 Divorced              Other-service     Not-in-family  White             \n",
       "48838 Never-married         Prof-specialty    Own-child      White             \n",
       "48839 Divorced              Prof-specialty    Not-in-family  White             \n",
       "48840 Widowed               ?                 Other-relative Black             \n",
       "48841 Married-civ-spouse    Prof-specialty    Husband        White             \n",
       "48842 Divorced              Adm-clerical      Own-child      Asian-Pac-Islander\n",
       "48843 Married-civ-spouse    Exec-managerial   Husband        White             \n",
       "      gender capital.gain capital.loss hours.per.week native.country income\n",
       "1     Male    2174           0         40             United-States  <=50K \n",
       "2     Male       0           0         13             United-States  <=50K \n",
       "3     Male       0           0         40             United-States  <=50K \n",
       "4     Male       0           0         40             United-States  <=50K \n",
       "5     Female     0           0         40             Cuba           <=50K \n",
       "6     Female     0           0         40             United-States  <=50K \n",
       "7     Female     0           0         16             Jamaica        <=50K \n",
       "8     Male       0           0         45             United-States  >50K  \n",
       "9     Female 14084           0         50             United-States  >50K  \n",
       "10    Male    5178           0         40             United-States  >50K  \n",
       "11    Male       0           0         80             United-States  >50K  \n",
       "12    Male       0           0         40             India          >50K  \n",
       "13    Female     0           0         30             United-States  <=50K \n",
       "14    Male       0           0         50             United-States  <=50K \n",
       "15    Male       0           0         40             ?              >50K  \n",
       "16    Male       0           0         45             Mexico         <=50K \n",
       "17    Male       0           0         35             United-States  <=50K \n",
       "18    Male       0           0         40             United-States  <=50K \n",
       "19    Male       0           0         50             United-States  <=50K \n",
       "20    Female     0           0         45             United-States  >50K  \n",
       "21    Male       0           0         60             United-States  >50K  \n",
       "22    Female     0           0         20             United-States  <=50K \n",
       "23    Male       0           0         40             United-States  <=50K \n",
       "24    Male       0        2042         40             United-States  <=50K \n",
       "25    Female     0           0         40             United-States  <=50K \n",
       "26    Male       0           0         40             United-States  >50K  \n",
       "27    Male       0           0         40             United-States  <=50K \n",
       "28    Male       0           0         60             South          >50K  \n",
       "29    Male       0           0         80             United-States  <=50K \n",
       "30    Male       0           0         40             United-States  <=50K \n",
       "⋮     ⋮      ⋮            ⋮            ⋮              ⋮              ⋮     \n",
       "48814 Male    2936           0         20             United-States  <=50K.\n",
       "48815 Male    7688           0         40             United-States  >50K. \n",
       "48816 Female     0        1669         40             United-States  <=50K.\n",
       "48817 Male       0           0         50             United-States  >50K. \n",
       "48818 Male       0        1902         50             United-States  >50K. \n",
       "48819 Male       0           0         40             United-States  <=50K.\n",
       "48820 Female     0           0         40             United-States  <=50K.\n",
       "48821 Male       0           0         40             United-States  <=50K.\n",
       "48822 Female     0           0          8             United-States  <=50K.\n",
       "48823 Female     0           0         45             United-States  <=50K.\n",
       "48824 Male   15024           0         55             United-States  >50K. \n",
       "48825 Male       0           0         40             United-States  <=50K.\n",
       "48826 Male       0           0         40             United-States  <=50K.\n",
       "48827 Male       0           0         32             United-States  <=50K.\n",
       "48828 Female     0           0         40             ?              >50K. \n",
       "48829 Female     0           0         32             United-States  <=50K.\n",
       "48830 Female     0           0         40             United-States  <=50K.\n",
       "48831 Male       0           0         36             United-States  <=50K.\n",
       "48832 Male       0           0         40             United-States  <=50K.\n",
       "48833 Male       0           0         40             United-States  <=50K.\n",
       "48834 Male       0           0         48             United-States  <=50K.\n",
       "48835 Male       0           0         40             United-States  <=50K.\n",
       "48836 Female     0           0         40             United-States  <=50K.\n",
       "48837 Male       0           0         40             United-States  <=50K.\n",
       "48838 Male       0           0         40             United-States  <=50K.\n",
       "48839 Female     0           0         36             United-States  <=50K.\n",
       "48840 Male       0           0         40             United-States  <=50K.\n",
       "48841 Male       0           0         50             United-States  <=50K.\n",
       "48842 Male    5455           0         40             United-States  <=50K.\n",
       "48843 Male       0           0         60             United-States  >50K. \n",
       "      dataset\n",
       "1     train  \n",
       "2     train  \n",
       "3     train  \n",
       "4     train  \n",
       "5     train  \n",
       "6     train  \n",
       "7     train  \n",
       "8     train  \n",
       "9     train  \n",
       "10    train  \n",
       "11    train  \n",
       "12    train  \n",
       "13    train  \n",
       "14    train  \n",
       "15    train  \n",
       "16    train  \n",
       "17    train  \n",
       "18    train  \n",
       "19    train  \n",
       "20    train  \n",
       "21    train  \n",
       "22    train  \n",
       "23    train  \n",
       "24    train  \n",
       "25    train  \n",
       "26    train  \n",
       "27    train  \n",
       "28    train  \n",
       "29    train  \n",
       "30    train  \n",
       "⋮     ⋮      \n",
       "48814 test   \n",
       "48815 test   \n",
       "48816 test   \n",
       "48817 test   \n",
       "48818 test   \n",
       "48819 test   \n",
       "48820 test   \n",
       "48821 test   \n",
       "48822 test   \n",
       "48823 test   \n",
       "48824 test   \n",
       "48825 test   \n",
       "48826 test   \n",
       "48827 test   \n",
       "48828 test   \n",
       "48829 test   \n",
       "48830 test   \n",
       "48831 test   \n",
       "48832 test   \n",
       "48833 test   \n",
       "48834 test   \n",
       "48835 test   \n",
       "48836 test   \n",
       "48837 test   \n",
       "48838 test   \n",
       "48839 test   \n",
       "48840 test   \n",
       "48841 test   \n",
       "48842 test   \n",
       "48843 test   "
      ]
     },
     "metadata": {},
     "output_type": "display_data"
    }
   ],
   "source": [
    "all <- rbind(train,test)\n",
    "\n",
    "# Elimina las filas con NA\n",
    "all <- all[complete.cases(all),]\n",
    "\n",
    "# Elimina los espacios en blanco\n",
    "all <- all %>% mutate_if(~is.factor(.),~trimws(.))\n",
    "\n",
    "all"
   ]
  },
  {
   "cell_type": "markdown",
   "id": "10f3e563",
   "metadata": {},
   "source": [
    "Filtra los datos de entrenamiento del dataframe combinado, y posteriormente se extrae la columna target como un vector:"
   ]
  },
  {
   "cell_type": "code",
   "execution_count": 40,
   "id": "0065ff57",
   "metadata": {},
   "outputs": [],
   "source": [
    "# target <- 'occupation'\n",
    "train <- all %>% filter(dataset == \"train\")\n",
    "train_target <- as.numeric(factor(train$occupation))\n",
    "train <- train %>% select(-occupation, -dataset)"
   ]
  },
  {
   "cell_type": "markdown",
   "id": "8f9b45d7",
   "metadata": {},
   "source": [
    "Separa las columnas con diferentes valores numéricos y aquellos con valores de caractereres para codificarlos y prepararlos para una matriz numérica:"
   ]
  },
  {
   "cell_type": "code",
   "execution_count": 41,
   "id": "e1686b78",
   "metadata": {},
   "outputs": [],
   "source": [
    "train_chars <- train %>%\n",
    "select_if(is.character)\n",
    "train_ints <- train %>%\n",
    "select_if(is.integer)"
   ]
  },
  {
   "cell_type": "code",
   "execution_count": 42,
   "id": "b93cd307",
   "metadata": {},
   "outputs": [],
   "source": [
    "ohe <- caret::dummyVars(\" ~ .\", data = train_chars)\n",
    "train_ohe <- data.frame(predict(ohe, newdata = train_chars))"
   ]
  },
  {
   "cell_type": "code",
   "execution_count": 43,
   "id": "16f449c4",
   "metadata": {},
   "outputs": [],
   "source": [
    "train <- cbind(train_ints,train_ohe)"
   ]
  },
  {
   "cell_type": "code",
   "execution_count": 44,
   "id": "b798d236",
   "metadata": {},
   "outputs": [],
   "source": [
    "test <- all %>% filter(dataset == \"test\")\n",
    "test_target <- as.numeric(factor(test$target))\n",
    "test <- test %>% select(-target, -dataset)\n",
    "test_chars <- test %>%\n",
    "select_if(is.character)\n",
    "test_ints <- test %>%\n",
    "select_if(is.integer)\n",
    "ohe <- caret::dummyVars(\" ~ .\", data = test_chars)\n",
    "test_ohe <- data.frame(predict(ohe, newdata = test_chars))\n",
    "test <- cbind(test_ints,test_ohe)"
   ]
  },
  {
   "cell_type": "code",
   "execution_count": 45,
   "id": "df04d669",
   "metadata": {},
   "outputs": [],
   "source": [
    "train_target <- train_target-1\n",
    "test_target <- test_target-1"
   ]
  },
  {
   "cell_type": "code",
   "execution_count": 46,
   "id": "855534ce",
   "metadata": {},
   "outputs": [],
   "source": [
    "train <- train %>% select(-native.countryHoland.Netherlands)"
   ]
  },
  {
   "cell_type": "markdown",
   "id": "b5f9e3a0",
   "metadata": {},
   "source": [
    "## Exploración de Keras"
   ]
  },
  {
   "cell_type": "markdown",
   "id": "c576f6f7",
   "metadata": {},
   "source": [
    "Carga las librerías necesarias:"
   ]
  },
  {
   "cell_type": "code",
   "execution_count": 48,
   "id": "dc9aa520",
   "metadata": {},
   "outputs": [],
   "source": [
    "library(tensorflow)\n",
    "library(keras)"
   ]
  },
  {
   "cell_type": "markdown",
   "id": "d694a8d5",
   "metadata": {},
   "source": [
    "Convierte los datasets en matrices:"
   ]
  },
  {
   "cell_type": "code",
   "execution_count": 50,
   "id": "80ccf613",
   "metadata": {},
   "outputs": [],
   "source": [
    "train <- as.matrix(train)\n",
    "test <- as.matrix(test)"
   ]
  },
  {
   "cell_type": "markdown",
   "id": "ed413edf",
   "metadata": {},
   "source": [
    "Crea modelo secuencial, el cual se mueva a través de cada capa:"
   ]
  },
  {
   "cell_type": "code",
   "execution_count": 51,
   "id": "a66236c7",
   "metadata": {},
   "outputs": [
    {
     "ename": "ERROR",
     "evalue": "Error: Valid installation of TensorFlow not found.\n\nPython environments searched for 'tensorflow' package:\n /home/porfirio/anaconda3/envs/R/bin/python3.8\n /usr/bin/python3.8\n /home/porfirio/anaconda3/bin/python3.8\n /home/porfirio/anaconda3/envs/R/bin/python3.8\n /home/porfirio/anaconda3/envs/rvenv/bin/python3.8\n /home/porfirio/anaconda3/envs/venv/bin/python3.9\n /usr/bin/python3.8\n\nPython exception encountered:\n ModuleNotFoundError: No module named 'tensorflow'\n\nDetailed traceback:\n  File \"/home/porfirio/anaconda3/envs/R/lib/R/library/reticulate/python/rpytools/loader.py\", line 39, in _import_hook\n    module = _import(\n\n\nYou can install TensorFlow using the install_tensorflow() function.\n\n",
     "output_type": "error",
     "traceback": [
      "Error: Valid installation of TensorFlow not found.\n\nPython environments searched for 'tensorflow' package:\n /home/porfirio/anaconda3/envs/R/bin/python3.8\n /usr/bin/python3.8\n /home/porfirio/anaconda3/bin/python3.8\n /home/porfirio/anaconda3/envs/R/bin/python3.8\n /home/porfirio/anaconda3/envs/rvenv/bin/python3.8\n /home/porfirio/anaconda3/envs/venv/bin/python3.9\n /usr/bin/python3.8\n\nPython exception encountered:\n ModuleNotFoundError: No module named 'tensorflow'\n\nDetailed traceback:\n  File \"/home/porfirio/anaconda3/envs/R/lib/R/library/reticulate/python/rpytools/loader.py\", line 39, in _import_hook\n    module = _import(\n\n\nYou can install TensorFlow using the install_tensorflow() function.\n\nTraceback:\n",
      "1. keras_model_sequential()",
      "2. keras$models",
      "3. `$.python.builtin.module`(keras, \"models\")",
      "4. py_resolve_module_proxy(x)",
      "5. on_error(result)",
      "6. stop(tf_config()$error_message, call. = FALSE)"
     ]
    }
   ],
   "source": [
    "model <- keras_model_sequential()\n",
    "\n",
    "model %>%\n",
    "    layer_dense(units=35, activation = 'relu')\n",
    "\n",
    "model %>% keras::compile(loss='binary_crossentropy',\n",
    "    optimizer='adam',\n",
    "    metrics='accuracy')"
   ]
  },
  {
   "cell_type": "markdown",
   "id": "84c8a3e9",
   "metadata": {},
   "source": [
    "## Exploración de MXNet"
   ]
  },
  {
   "cell_type": "markdown",
   "id": "55bb0816",
   "metadata": {},
   "source": [
    "## Exploración de H2O"
   ]
  },
  {
   "cell_type": "markdown",
   "id": "bec88ea7",
   "metadata": {},
   "source": [
    "## Exploración de ReinforcementLearning"
   ]
  },
  {
   "cell_type": "code",
   "execution_count": null,
   "id": "a389cab5",
   "metadata": {},
   "outputs": [],
   "source": []
  }
 ],
 "metadata": {
  "kernelspec": {
   "display_name": "R",
   "language": "R",
   "name": "ir"
  },
  "language_info": {
   "codemirror_mode": "r",
   "file_extension": ".r",
   "mimetype": "text/x-r-source",
   "name": "R",
   "pygments_lexer": "r",
   "version": "4.1.1"
  }
 },
 "nbformat": 4,
 "nbformat_minor": 5
}
