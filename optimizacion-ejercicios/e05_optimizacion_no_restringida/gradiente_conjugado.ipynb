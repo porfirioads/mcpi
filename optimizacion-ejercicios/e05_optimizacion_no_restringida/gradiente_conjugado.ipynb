{
 "cells": [
  {
   "cell_type": "markdown",
   "id": "c6780da5-8da7-4f19-ab71-9b974c80b81b",
   "metadata": {},
   "source": [
    "**MÉTODO DEL GRADIENTE CONJUGADO**\n",
    "---"
   ]
  },
  {
   "cell_type": "markdown",
   "id": "0071d9c2-cef2-4cab-b09e-ea7b3a750a0f",
   "metadata": {},
   "source": [
    "# Implementación"
   ]
  },
  {
   "cell_type": "markdown",
   "id": "647cb8d2-4ae0-413c-9769-f08f0f886289",
   "metadata": {},
   "source": [
    "Se importan las librerías:"
   ]
  },
  {
   "cell_type": "code",
   "execution_count": 8,
   "id": "b9cd9cc8-4ab6-445e-be88-41558d85f15b",
   "metadata": {},
   "outputs": [],
   "source": [
    "import matplotlib.pyplot as plt\n",
    "from matplotlib import cm\n",
    "from time import time\n",
    "import numpy as np\n",
    "import math\n",
    "import numpy.linalg as la\n",
    "%matplotlib qt"
   ]
  },
  {
   "cell_type": "markdown",
   "id": "4997bcf4-55b8-4acb-a98e-c431d20c7e8d",
   "metadata": {},
   "source": [
    "Se define el problema:"
   ]
  },
  {
   "cell_type": "code",
   "execution_count": 22,
   "id": "1e26ee0c-7df9-4d27-847a-2dc39b7259fb",
   "metadata": {},
   "outputs": [],
   "source": [
    "funcx = lambda x: (100 + 90) * (np.sqrt(x[0] ** 2 + (x[1] + 1) ** 2) - 1) ** 2 - (20 * x[0] + 40 * x[1])\n",
    "\n",
    "#funcx = lambda x: (100 * (np.sqrt(x[0] ** 2 + (x[1] + 1) ** 2) - 1)) ** 2 + (90 * (np.sqrt(x[0] ** 2 + (x[1] + 1) ** 2) - 1)) - (20 * x[0] + 40 * x[1])"
   ]
  },
  {
   "cell_type": "markdown",
   "id": "af1eb242-ce7d-4107-a6d5-bb41e91384cf",
   "metadata": {},
   "source": [
    "Se definen las funciones de utilidad:"
   ]
  },
  {
   "cell_type": "code",
   "execution_count": 23,
   "id": "da39ac7b-5fbb-4ab1-b664-8817dd137bb9",
   "metadata": {},
   "outputs": [],
   "source": [
    "def gradient(x,delta):\n",
    "    grad=np.zeros(2)\n",
    "    grad[0]=(funcx([x[0]+delta,x[1]])- funcx([x[0]-delta,x[1]]))/(2*delta)\n",
    "    grad[1]=(funcx([x[0],x[1]+delta])- funcx([x[0],x[1]-delta]))/(2*delta)\n",
    "    return grad"
   ]
  },
  {
   "cell_type": "code",
   "execution_count": 24,
   "id": "fe88e28b-d8a0-4aef-ad9d-cb1c27ebc2e9",
   "metadata": {},
   "outputs": [],
   "source": [
    "def golden(x, search, xi, eps):\n",
    "    a = xi[0];\n",
    "    b = xi[1];\n",
    "    tau = 0.381967;\n",
    "    alpha1 = a*(1-tau) + b*tau;\n",
    "    alpha2 = a*tau + b*(1-tau);\n",
    "    falpha1 = funcx(x+alpha1*search);\n",
    "    falpha2 = funcx(x+alpha2*search);\n",
    "    for i in range(100):\n",
    "        if falpha1 > falpha2:\n",
    "            a = alpha1;\n",
    "            alpha1 = alpha2;\n",
    "            falpha1 = falpha2;\n",
    "            alpha2 = tau*a + (1-tau)*b;\n",
    "            falpha2 = funcx(x+alpha2*search);\n",
    "        else:\n",
    "            b = alpha2;\n",
    "            alpha2 = alpha1;\n",
    "            falpha2 = falpha1;\n",
    "            alpha1 = tau*b + (1-tau)*a;\n",
    "            falpha1 = funcx(x+alpha1*search);\n",
    "\n",
    "        if np.abs(funcx(x+alpha1*search)- funcx(x+alpha2*search)) < eps :\n",
    "            break;\n",
    "    return alpha1,falpha1"
   ]
  },
  {
   "cell_type": "code",
   "execution_count": 25,
   "id": "52fe796e-e9fb-4f01-9325-822de35e1961",
   "metadata": {},
   "outputs": [],
   "source": [
    "def hessian(x,delta):\n",
    "    H=np.zeros([2,2])\n",
    "    H[0,0]= ( funcx([x[0]+delta,x[1]])  - 2*funcx(x) + funcx([x[0]-delta,x[1]]) )/ delta**2;\n",
    "    H[1,1]= ( funcx([x[0],x[1]+delta])  - 2*funcx(x) + funcx([x[0],x[1]-delta]) )/ delta**2; \n",
    "    H[0,1]= ( funcx([x[0]+delta,x[1]+delta]) - funcx([x[0]+delta,x[1]-delta]) - funcx([x[0]-delta,x[1]+delta]) + funcx([x[0]-delta,x[1]-delta]) )/ (4*(delta**2));\n",
    "    H[1,0]=H[0,1]\n",
    "    return H"
   ]
  },
  {
   "cell_type": "markdown",
   "id": "ac53eeb2-de1c-46d6-b432-ad385560ea70",
   "metadata": {},
   "source": [
    "Se implementa el algoritmo:"
   ]
  },
  {
   "cell_type": "code",
   "execution_count": 27,
   "id": "730e87cb-d297-4d3d-9ede-52b10574eb2b",
   "metadata": {},
   "outputs": [
    {
     "name": "stdout",
     "output_type": "stream",
     "text": [
      "Initial function value = 270.29 \n",
      "Iter o.\t x-vector \tf(x)\t Norm \n",
      "---------------------------------------------------\n",
      "---------------------------------------------------\n",
      "1\t[0.030,0.199]\t-1.026\t33.677\n",
      "2\t[0.438,0.101]\t-6.301\t39.919\n",
      "3\t[0.502,-0.001]\t-7.353\t26.034\n",
      "---------------------------------------------------\n"
     ]
    }
   ],
   "source": [
    "delta=1e-3 \n",
    "ep1=1e-3\n",
    "ep2=1e-3\n",
    "x = [-1,1]\n",
    "\n",
    "f_prev=funcx(x)\n",
    "    \n",
    "print('Initial function value = {0:.2f} '.format(f_prev))\n",
    "print('Iter o.\\t x-vector \\tf(x)\\t Norm ')\n",
    "print('---------------------------------------------------')\n",
    "print('---------------------------------------------------')\n",
    "    \n",
    "for i in range(300):\n",
    "    if i==0:\n",
    "        dire_prev=gradient(x,delta)\n",
    "        si_prev = -dire_prev\n",
    "        alpha,fx_prev = golden(x,si_prev, [-1, 1], ep1);\n",
    "        \n",
    "        if la.norm(dire_prev)<ep1:\n",
    "            break\n",
    "        x = x +  alpha*si_prev \n",
    "    else:\n",
    "        dire=gradient(x,delta)\n",
    "        si = - dire +((la.norm(dire)**2)/(la.norm(dire_prev)**2))*si_prev;\n",
    "        alpha,fx_curr = golden(x,si, [-1, 1], ep2);\n",
    "        if abs(fx_curr-fx_prev)<ep1 or la.norm(dire)<ep2:\n",
    "            break;\n",
    "        dire_prev=dire\n",
    "        si_prev=si\n",
    "        x = x +  (alpha*si).transpose() \n",
    "        fx_prev=funcx(x)\n",
    "        print('{0}\\t[{1:.3f},{2:.3f}]\\t{3:.3f}\\t{4:.3f}'.format(i, x[0], x[1],fx_curr,la.norm(dire)))\n",
    "print('---------------------------------------------------')"
   ]
  },
  {
   "cell_type": "code",
   "execution_count": null,
   "id": "b7cef03d-5e1c-4280-943c-cede664ba2c0",
   "metadata": {},
   "outputs": [],
   "source": []
  }
 ],
 "metadata": {
  "kernelspec": {
   "display_name": "Python 3 (ipykernel)",
   "language": "python",
   "name": "python3"
  },
  "language_info": {
   "codemirror_mode": {
    "name": "ipython",
    "version": 3
   },
   "file_extension": ".py",
   "mimetype": "text/x-python",
   "name": "python",
   "nbconvert_exporter": "python",
   "pygments_lexer": "ipython3",
   "version": "3.9.6"
  }
 },
 "nbformat": 4,
 "nbformat_minor": 5
}
