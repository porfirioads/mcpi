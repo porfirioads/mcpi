{
 "cells": [
  {
   "cell_type": "markdown",
   "id": "4f0eb6af",
   "metadata": {},
   "source": [
    "# Setting Up R for Deep Learning"
   ]
  },
  {
   "cell_type": "markdown",
   "id": "d40c97ed",
   "metadata": {},
   "source": [
    "## Instalación de los paquetes"
   ]
  },
  {
   "cell_type": "markdown",
   "id": "bef2c5e7",
   "metadata": {},
   "source": [
    "### Instalación de ReinforcementLearning"
   ]
  },
  {
   "cell_type": "code",
   "execution_count": 1,
   "id": "db057925",
   "metadata": {},
   "outputs": [
    {
     "name": "stderr",
     "output_type": "stream",
     "text": [
      "Updating HTML index of packages in '.Library'\n",
      "\n",
      "Making 'packages.html' ...\n",
      " done\n",
      "\n"
     ]
    }
   ],
   "source": [
    "install.packages(\"ReinforcementLearning\")"
   ]
  },
  {
   "cell_type": "markdown",
   "id": "65352f63",
   "metadata": {},
   "source": [
    "### Instalación de RBM"
   ]
  },
  {
   "cell_type": "code",
   "execution_count": 2,
   "id": "7b095835",
   "metadata": {},
   "outputs": [
    {
     "name": "stderr",
     "output_type": "stream",
     "text": [
      "Updating HTML index of packages in '.Library'\n",
      "\n",
      "Making 'packages.html' ...\n",
      " done\n",
      "\n",
      "Loading required package: usethis\n",
      "\n",
      "Skipping install of 'RBM' from a github remote, the SHA1 (0fb2b60c) has not changed since last install.\n",
      "  Use `force = TRUE` to force installation\n",
      "\n"
     ]
    }
   ],
   "source": [
    "install.packages(\"devtools\")\n",
    "library(devtools)\n",
    "install_github(\"TimoMatzen/RBM\")"
   ]
  },
  {
   "cell_type": "markdown",
   "id": "804c88c5",
   "metadata": {},
   "source": [
    "### Instalación de Keras"
   ]
  },
  {
   "cell_type": "code",
   "execution_count": 3,
   "id": "5f8bc3cd",
   "metadata": {},
   "outputs": [
    {
     "name": "stderr",
     "output_type": "stream",
     "text": [
      "Downloading GitHub repo rstudio/keras@HEAD\n",
      "\n"
     ]
    },
    {
     "name": "stdout",
     "output_type": "stream",
     "text": [
      "\n",
      "\u001b[32m✔\u001b[39m  \u001b[90mchecking for file ‘/tmp/RtmpWCmN2o/remotes12747ea4a73e/rstudio-keras-308e9fd/DESCRIPTION’\u001b[39m\u001b[36m\u001b[36m (755ms)\u001b[36m\u001b[39m\n",
      "\u001b[90m─\u001b[39m\u001b[90m  \u001b[39m\u001b[90mpreparing ‘keras’:\u001b[39m\u001b[36m\u001b[39m\n",
      "\u001b[32m✔\u001b[39m  \u001b[90mchecking DESCRIPTION meta-information\u001b[39m\u001b[36m\u001b[39m\n",
      "\u001b[90m─\u001b[39m\u001b[90m  \u001b[39m\u001b[90mchecking for LF line-endings in source and make files and shell scripts\u001b[39m\u001b[36m\u001b[36m (1.4s)\u001b[36m\u001b[39m\n",
      "\u001b[90m─\u001b[39m\u001b[90m  \u001b[39m\u001b[90mchecking for empty or unneeded directories\u001b[39m\u001b[36m\u001b[39m\n",
      "   Removed empty directory ‘keras/man-roxygen’\n",
      "\u001b[90m─\u001b[39m\u001b[90m  \u001b[39m\u001b[90mbuilding ‘keras_2.6.0.9001.tar.gz’\u001b[39m\u001b[36m\u001b[39m\n",
      "   \n",
      "\r"
     ]
    },
    {
     "name": "stderr",
     "output_type": "stream",
     "text": [
      "Updating HTML index of packages in '.Library'\n",
      "\n",
      "Making 'packages.html' ...\n",
      " done\n",
      "\n"
     ]
    },
    {
     "ename": "ERROR",
     "evalue": "Error in install_keras(): could not find function \"install_keras\"\n",
     "output_type": "error",
     "traceback": [
      "Error in install_keras(): could not find function \"install_keras\"\nTraceback:\n"
     ]
    }
   ],
   "source": [
    "devtools::install_github(\"rstudio/keras\")\n",
    "install.packages(\"keras\")\n",
    "install_keras()"
   ]
  },
  {
   "cell_type": "markdown",
   "id": "873d1fcc",
   "metadata": {},
   "source": [
    "### Instalación de H2O"
   ]
  },
  {
   "cell_type": "code",
   "execution_count": null,
   "id": "2666d884",
   "metadata": {},
   "outputs": [],
   "source": [
    "if (\"package:h2o\" %in% search()) { detach(\"package:h2o\", unload=TRUE) }\n",
    "if (\"h2o\" %in% rownames(installed.packages())) { remove.packages(\"h2o\") }\n",
    "pkgs <- c(\"RCurl\",\"jsonlite\")\n",
    "for (pkg in pkgs) {\n",
    "if (! (pkg %in% rownames(installed.packages()))) { install.packages(pkg)\n",
    "}\n",
    "}\n",
    "install.packages(\"h2o\", type=\"source\",\n",
    "repos=(c(\"http://h2o-release.s3.amazonaws.com/h2o/latest_stable_R\")))"
   ]
  },
  {
   "cell_type": "markdown",
   "id": "6cd39362",
   "metadata": {},
   "source": [
    "### Instalación de MXNet"
   ]
  },
  {
   "cell_type": "markdown",
   "id": "862ffee7",
   "metadata": {},
   "source": [
    "Ejecutar los siguientes comandos en la terminal:\n",
    "\n",
    "```bash\n",
    "sudo apt-get update\n",
    "sudo apt-get install -y build-essential git ninja-build ccache libopenblas-dev libopencv-dev cmake\n",
    "git clone --recursive https://github.com/apache/incubator-mxnet\n",
    "cd incubator-mxnet\n",
    "cmake . -D USE_CUDA=0\n",
    "make -j $(nproc) USE_OPENCV=1 USE_BLAS=openblas\n",
    "make rpkg\n",
    "```"
   ]
  },
  {
   "cell_type": "markdown",
   "id": "cd195a17",
   "metadata": {},
   "source": [
    "## Preparación de un dataset de ejemplo"
   ]
  },
  {
   "cell_type": "markdown",
   "id": "c8c8d712",
   "metadata": {},
   "source": [
    "Se realiza la carga de los datos:"
   ]
  },
  {
   "cell_type": "code",
   "execution_count": 4,
   "id": "26b7deb9",
   "metadata": {},
   "outputs": [
    {
     "name": "stderr",
     "output_type": "stream",
     "text": [
      "── \u001b[1mAttaching packages\u001b[22m ─────────────────────────────────────── tidyverse 1.3.1 ──\n",
      "\n",
      "\u001b[32m✔\u001b[39m \u001b[34mggplot2\u001b[39m 3.3.5     \u001b[32m✔\u001b[39m \u001b[34mpurrr  \u001b[39m 0.3.4\n",
      "\u001b[32m✔\u001b[39m \u001b[34mtibble \u001b[39m 3.1.4     \u001b[32m✔\u001b[39m \u001b[34mdplyr  \u001b[39m 1.0.7\n",
      "\u001b[32m✔\u001b[39m \u001b[34mtidyr  \u001b[39m 1.1.4     \u001b[32m✔\u001b[39m \u001b[34mstringr\u001b[39m 1.4.0\n",
      "\u001b[32m✔\u001b[39m \u001b[34mreadr  \u001b[39m 2.0.2     \u001b[32m✔\u001b[39m \u001b[34mforcats\u001b[39m 0.5.1\n",
      "\n",
      "── \u001b[1mConflicts\u001b[22m ────────────────────────────────────────── tidyverse_conflicts() ──\n",
      "\u001b[31m✖\u001b[39m \u001b[34mdplyr\u001b[39m::\u001b[32mfilter()\u001b[39m masks \u001b[34mstats\u001b[39m::filter()\n",
      "\u001b[31m✖\u001b[39m \u001b[34mdplyr\u001b[39m::\u001b[32mlag()\u001b[39m    masks \u001b[34mstats\u001b[39m::lag()\n",
      "\n",
      "Loading required package: lattice\n",
      "\n",
      "\n",
      "Attaching package: ‘caret’\n",
      "\n",
      "\n",
      "The following object is masked from ‘package:purrr’:\n",
      "\n",
      "    lift\n",
      "\n",
      "\n",
      "Warning message in file(file, \"rt\"):\n",
      "“cannot open file 'adult_processed_train.csv': No such file or directory”\n"
     ]
    },
    {
     "ename": "ERROR",
     "evalue": "Error in file(file, \"rt\"): cannot open the connection\n",
     "output_type": "error",
     "traceback": [
      "Error in file(file, \"rt\"): cannot open the connection\nTraceback:\n",
      "1. read.csv(\"adult_processed_train.csv\")",
      "2. read.table(file = file, header = header, sep = sep, quote = quote, \n .     dec = dec, fill = fill, comment.char = comment.char, ...)",
      "3. file(file, \"rt\")"
     ]
    }
   ],
   "source": [
    "library(tidyverse)\n",
    "library(caret)\n",
    "train <- read.csv(\"adult_processed_train.csv\")\n",
    "train <- train %>% dplyr::mutate(dataset = \"train\")\n",
    "test <- read.csv(\"adult_processed_test.csv\")\n",
    "test <- test %>% dplyr::mutate(dataset = \"test\")"
   ]
  }
 ],
 "metadata": {
  "kernelspec": {
   "display_name": "R",
   "language": "R",
   "name": "ir"
  },
  "language_info": {
   "codemirror_mode": "r",
   "file_extension": ".r",
   "mimetype": "text/x-r-source",
   "name": "R",
   "pygments_lexer": "r",
   "version": "4.1.1"
  }
 },
 "nbformat": 4,
 "nbformat_minor": 5
}
