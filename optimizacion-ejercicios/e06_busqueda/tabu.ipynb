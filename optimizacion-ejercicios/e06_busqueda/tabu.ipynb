{
 "cells": [
  {
   "cell_type": "markdown",
   "id": "997e1e49-5ead-418b-b366-dc7c4209ae73",
   "metadata": {},
   "source": [
    "**BÚSQUEDA TABÚ**\n",
    "---"
   ]
  },
  {
   "cell_type": "markdown",
   "id": "ade79ead-5c3d-4080-84b2-7683ff51b698",
   "metadata": {},
   "source": [
    "# Problema a resolver"
   ]
  },
  {
   "cell_type": "markdown",
   "id": "07690c61-aff7-4a95-9fd9-250274c8a98e",
   "metadata": {},
   "source": [
    "$$U = \\frac{204,165.5}{330 - 2T} + \\frac{10,400}{T - 20}$$"
   ]
  },
  {
   "cell_type": "markdown",
   "id": "ac65c871-253d-4d5c-8afa-eb8589ea887e",
   "metadata": {},
   "source": [
    "# Implementación"
   ]
  },
  {
   "cell_type": "markdown",
   "id": "0735d712-7d35-43b3-a38e-31251c9b46eb",
   "metadata": {},
   "source": [
    "Importación de librerías:"
   ]
  },
  {
   "cell_type": "code",
   "execution_count": 1,
   "id": "0a4e919d-1e68-4dba-a31b-19bd27bd171e",
   "metadata": {},
   "outputs": [],
   "source": [
    "from matplotlib import pyplot as plt\n",
    "import numpy as np \n",
    "from time import time"
   ]
  },
  {
   "cell_type": "markdown",
   "id": "40ad702c-a4b6-453f-a6f6-9973831cf878",
   "metadata": {},
   "source": [
    "Definición de la función del problema:"
   ]
  },
  {
   "cell_type": "code",
   "execution_count": 14,
   "id": "1f8737cc-5b9d-427b-ba2f-3507beca5dcb",
   "metadata": {},
   "outputs": [],
   "source": [
    "#f = lambda t:  3 * (t ** 4) - 8 * (t ** 3) - 18 * (t ** 2)\n",
    "f = lambda t:  5 * t ** 2 + 5"
   ]
  },
  {
   "cell_type": "markdown",
   "id": "3c5d463b-ac70-4640-b4b1-8cf28439cc41",
   "metadata": {},
   "source": [
    "Definición de la derivada adelantada:"
   ]
  },
  {
   "cell_type": "code",
   "execution_count": 15,
   "id": "61631e78-7157-409a-a999-fbede277bb15",
   "metadata": {},
   "outputs": [],
   "source": [
    "fp = lambda x, delta: (f(x + delta) - f(x)) / delta"
   ]
  },
  {
   "cell_type": "markdown",
   "id": "1a7f8e10-bb43-4311-9df4-51947d5659c8",
   "metadata": {},
   "source": [
    "Graficación del problema:"
   ]
  },
  {
   "cell_type": "code",
   "execution_count": 16,
   "id": "7677f078-6f33-4fc7-b3f0-583bdc8a3972",
   "metadata": {},
   "outputs": [],
   "source": [
    "def plot_x(xmin, xmax, x):\n",
    "    fx = f(x)\n",
    "    fig1 = plt.figure(figsize = (15,8))\n",
    "    plt.plot(x,fx);\n",
    "    plt.xlabel('$x$')\n",
    "    plt.ylabel('$y$')\n",
    "    plt.grid(True)"
   ]
  },
  {
   "cell_type": "markdown",
   "id": "0755c204-3cde-4451-b7aa-5d719a94a857",
   "metadata": {},
   "source": [
    "Algoritmo:"
   ]
  },
  {
   "cell_type": "code",
   "execution_count": 17,
   "id": "e343dfed-bd78-4861-8e63-456b9f34a23c",
   "metadata": {},
   "outputs": [],
   "source": [
    "xmin = -3\n",
    "xmax = 5\n",
    "x = np.linspace(xmin, xmax, 100)"
   ]
  },
  {
   "cell_type": "code",
   "execution_count": 18,
   "id": "a20c5909-a649-4208-8db3-bd92e62796a9",
   "metadata": {},
   "outputs": [
    {
     "data": {
      "image/png": "[encoded data removed]",
      "text/plain": [
       "<Figure size 1080x576 with 1 Axes>"
      ]
     },
     "metadata": {
      "needs_background": "light"
     },
     "output_type": "display_data"
    }
   ],
   "source": [
    "plot_x(xmin, xmax, x)"
   ]
  },
  {
   "cell_type": "code",
   "execution_count": 27,
   "id": "7a582841-bfd6-471d-a8e6-ccfe715caba2",
   "metadata": {},
   "outputs": [
    {
     "name": "stdout",
     "output_type": "stream",
     "text": [
      "Iteraciones: 14\n",
      "s_best: -0.010101010101009944\n",
      "f_best: 5.000510152025304\n",
      "fp_best: -0.09601010100990237\n",
      "Tabu: 15\n",
      "Admissible: 85\n",
      "\n"
     ]
    }
   ],
   "source": [
    "s_0 = x[np.random.randint(0, len(x))]\n",
    "f_best = f(s_0)\n",
    "s_best = s_0\n",
    "tabu = np.array([s_0])\n",
    "admissible = np.setdiff1d(x, np.array([s_0]))\n",
    "epsilon = 0.001\n",
    "delta = 0.001\n",
    "intentos_sin_mejora = 10\n",
    "\n",
    "for i in range(1, 100):\n",
    "    s_new = admissible[np.random.randint(0, len(admissible))]\n",
    "    f_new = f(s_new)\n",
    "    if f_new < f_best:\n",
    "        s_best_prev = s_best\n",
    "        f_best = f_new\n",
    "        s_best = s_new\n",
    "        #print(f'{i} -> s_best_prev: {s_best_prev}, s_best: {s_best}')\n",
    "        #print(f'{fp(s_best_prev, delta)} -> {fp(s_best, delta)}')\n",
    "        # Si ya no hay diferencia significativa se sale del algoritmo.\n",
    "        # Esto debería quitarse porque el algoritmo permite explorar más soluciones.\n",
    "        #if abs(fp(s_best_prev, delta) - fp(s_best, delta)) <= epsilon:\n",
    "        #    break\n",
    "    else:\n",
    "        intentos_sin_mejora -= 1\n",
    "    tabu = np.append(tabu, s_new)\n",
    "    admissible = np.setdiff1d(admissible, np.array([s_new]))\n",
    "    \n",
    "    if len(admissible) == 0 or intentos_sin_mejora == 0:\n",
    "        break\n",
    "        \n",
    "print(f'Iteraciones: {i}')\n",
    "print(f's_best: {s_best}')\n",
    "print(f'f_best: {f_best}')\n",
    "print(f'fp_best: {fp(s_best, delta)}')\n",
    "print(f'Tabu: {len(tabu)}')\n",
    "print(f'Admissible: {len(admissible)}')\n",
    "print()\n"
   ]
  }
 ],
 "metadata": {
  "kernelspec": {
   "display_name": "Python 3 (ipykernel)",
   "language": "python",
   "name": "python3"
  },
  "language_info": {
   "codemirror_mode": {
    "name": "ipython",
    "version": 3
   },
   "file_extension": ".py",
   "mimetype": "text/x-python",
   "name": "python",
   "nbconvert_exporter": "python",
   "pygments_lexer": "ipython3",
   "version": "3.9.6"
  }
 },
 "nbformat": 4,
 "nbformat_minor": 5
}
