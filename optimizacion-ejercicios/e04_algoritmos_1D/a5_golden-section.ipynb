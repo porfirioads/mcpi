{
 "cells": [
  {
   "cell_type": "markdown",
   "id": "766ca6be-67d7-4a16-b199-00d9c6f699f1",
   "metadata": {},
   "source": [
    "**<span style=\"font-size:xx-large\">MÉTODO GOLDEN SECTION</span>**"
   ]
  },
  {
   "cell_type": "markdown",
   "id": "859cc65a-1a01-4d01-adec-201990410b63",
   "metadata": {},
   "source": [
    "# Descripción"
   ]
  },
  {
   "cell_type": "code",
   "execution_count": null,
   "id": "a78464f9-31e3-43ab-8669-aee934fba0cf",
   "metadata": {},
   "outputs": [],
   "source": []
  },
  {
   "cell_type": "markdown",
   "id": "0a8bf41d-9d83-443c-a59d-8810ec3c7f6d",
   "metadata": {},
   "source": [
    "# Pseudocódigo"
   ]
  },
  {
   "cell_type": "markdown",
   "id": "23706060-c7ba-4678-ac82-240b6db0db27",
   "metadata": {},
   "source": [
    "![golden](pseudo05.png \"Golden section\")"
   ]
  },
  {
   "cell_type": "markdown",
   "id": "fde35bb5-ba13-4c8e-bf35-bce6b5d73222",
   "metadata": {},
   "source": [
    "# Implementación"
   ]
  },
  {
   "cell_type": "code",
   "execution_count": 1,
   "id": "e393bf07-34b5-4941-b865-39e0a7a1a462",
   "metadata": {},
   "outputs": [],
   "source": [
    "from matplotlib import pyplot as plt\n",
    "from time import time\n",
    "import numpy as np"
   ]
  },
  {
   "cell_type": "code",
   "execution_count": 14,
   "id": "c13691c7-4b0f-40a5-8404-67e5c9f658d5",
   "metadata": {},
   "outputs": [
    {
     "name": "stdout",
     "output_type": "stream",
     "text": [
      "Tiempo transcurrido: 0.0 ms.\n",
      "a = 55.05560913821268\n",
      "b = 55.15157607856386\n",
      "f(alpha1) = 1225.1658846660562\n",
      "f(alpha2) = 1225.1656611238272\n",
      "Iteraciones: 13\n"
     ]
    }
   ],
   "source": [
    "# Función de costo del problema.\n",
    "f = lambda t: ((204_165.5) / (330 - 2 * t)) + (10_400 / (t - 20))\n",
    "\n",
    "# Definición de la derivada adelantada en un punto.\n",
    "dx = lambda x, delta_x: (f(x + delta_x) - f(x)) / delta_x\n",
    "\n",
    "# Restricciones de la variable t\n",
    "a = 40\n",
    "b = 90\n",
    "\n",
    "tau=0.381967\n",
    "\n",
    "# Tolerancia\n",
    "epsilon = 0.001\n",
    "delta_x = epsilon\n",
    "\n",
    "# Registra tiempo de inicio del algoritmo.\n",
    "start_time = time()\n",
    "\n",
    "# Realiza las iteraciones del algoritmo\n",
    "for i in range(1, 5000):\n",
    "    alpha1 = a * (1 - tau) + b * tau\n",
    "    alpha2 = a * tau + b * (1 - tau)\n",
    "    falpha1 = f(alpha1)\n",
    "    falpha2 = f(alpha2);\n",
    "    \n",
    "    if falpha1 > falpha2:\n",
    "        a = alpha1;\n",
    "    else:\n",
    "        b = alpha2;\n",
    "    \n",
    "    if abs(falpha1 - falpha2) < epsilon:\n",
    "        break\n",
    "\n",
    "# Registra tiempo de finalización del algoritmo.\n",
    "end_time = time()\n",
    "\n",
    "# Calcula tiempo transcurrido en milisegundos.\n",
    "elapsed_time = (end_time - start_time) * 1000\n",
    "\n",
    "print(f'Tiempo transcurrido: {elapsed_time} ms.')\n",
    "print(f'a = {a}')\n",
    "print(f'b = {b}')\n",
    "print(f'f(alpha1) = {falpha1}')\n",
    "print(f'f(alpha2) = {falpha2}')\n",
    "print(f'Iteraciones: {i}')"
   ]
  }
 ],
 "metadata": {
  "kernelspec": {
   "display_name": "Python 3",
   "language": "python",
   "name": "python3"
  },
  "language_info": {
   "codemirror_mode": {
    "name": "ipython",
    "version": 3
   },
   "file_extension": ".py",
   "mimetype": "text/x-python",
   "name": "python",
   "nbconvert_exporter": "python",
   "pygments_lexer": "ipython3",
   "version": "3.8.10"
  }
 },
 "nbformat": 4,
 "nbformat_minor": 5
}
